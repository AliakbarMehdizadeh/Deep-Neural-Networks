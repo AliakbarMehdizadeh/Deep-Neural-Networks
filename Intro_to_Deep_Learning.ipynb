{
 "cells": [
  {
   "cell_type": "code",
   "execution_count": 1,
   "metadata": {},
   "outputs": [],
   "source": [
    "from tensorflow import keras"
   ]
  },
  {
   "cell_type": "code",
   "execution_count": 2,
   "metadata": {},
   "outputs": [],
   "source": [
    "from tensorflow.keras import layers"
   ]
  },
  {
   "cell_type": "code",
   "execution_count": 4,
   "metadata": {},
   "outputs": [],
   "source": [
    "model = keras.Sequential([\n",
    "    layers.Dense(units=1, input_shape=[3])\n",
    "])"
   ]
  },
  {
   "cell_type": "markdown",
   "metadata": {},
   "source": [
    "## Exercise: A Single Neuron"
   ]
  },
  {
   "cell_type": "code",
   "execution_count": 5,
   "metadata": {},
   "outputs": [],
   "source": [
    "import pandas as pd"
   ]
  },
  {
   "cell_type": "code",
   "execution_count": 6,
   "metadata": {},
   "outputs": [],
   "source": [
    "red_wine = pd.read_csv('data/red-wine.csv')"
   ]
  },
  {
   "cell_type": "code",
   "execution_count": 7,
   "metadata": {},
   "outputs": [
    {
     "data": {
      "text/html": [
       "<div>\n",
       "<style scoped>\n",
       "    .dataframe tbody tr th:only-of-type {\n",
       "        vertical-align: middle;\n",
       "    }\n",
       "\n",
       "    .dataframe tbody tr th {\n",
       "        vertical-align: top;\n",
       "    }\n",
       "\n",
       "    .dataframe thead th {\n",
       "        text-align: right;\n",
       "    }\n",
       "</style>\n",
       "<table border=\"1\" class=\"dataframe\">\n",
       "  <thead>\n",
       "    <tr style=\"text-align: right;\">\n",
       "      <th></th>\n",
       "      <th>fixed acidity</th>\n",
       "      <th>volatile acidity</th>\n",
       "      <th>citric acid</th>\n",
       "      <th>residual sugar</th>\n",
       "      <th>chlorides</th>\n",
       "      <th>free sulfur dioxide</th>\n",
       "      <th>total sulfur dioxide</th>\n",
       "      <th>density</th>\n",
       "      <th>pH</th>\n",
       "      <th>sulphates</th>\n",
       "      <th>alcohol</th>\n",
       "      <th>quality</th>\n",
       "    </tr>\n",
       "  </thead>\n",
       "  <tbody>\n",
       "    <tr>\n",
       "      <th>0</th>\n",
       "      <td>7.4</td>\n",
       "      <td>0.70</td>\n",
       "      <td>0.00</td>\n",
       "      <td>1.9</td>\n",
       "      <td>0.076</td>\n",
       "      <td>11.0</td>\n",
       "      <td>34.0</td>\n",
       "      <td>0.9978</td>\n",
       "      <td>3.51</td>\n",
       "      <td>0.56</td>\n",
       "      <td>9.4</td>\n",
       "      <td>5</td>\n",
       "    </tr>\n",
       "    <tr>\n",
       "      <th>1</th>\n",
       "      <td>7.8</td>\n",
       "      <td>0.88</td>\n",
       "      <td>0.00</td>\n",
       "      <td>2.6</td>\n",
       "      <td>0.098</td>\n",
       "      <td>25.0</td>\n",
       "      <td>67.0</td>\n",
       "      <td>0.9968</td>\n",
       "      <td>3.20</td>\n",
       "      <td>0.68</td>\n",
       "      <td>9.8</td>\n",
       "      <td>5</td>\n",
       "    </tr>\n",
       "    <tr>\n",
       "      <th>2</th>\n",
       "      <td>7.8</td>\n",
       "      <td>0.76</td>\n",
       "      <td>0.04</td>\n",
       "      <td>2.3</td>\n",
       "      <td>0.092</td>\n",
       "      <td>15.0</td>\n",
       "      <td>54.0</td>\n",
       "      <td>0.9970</td>\n",
       "      <td>3.26</td>\n",
       "      <td>0.65</td>\n",
       "      <td>9.8</td>\n",
       "      <td>5</td>\n",
       "    </tr>\n",
       "    <tr>\n",
       "      <th>3</th>\n",
       "      <td>11.2</td>\n",
       "      <td>0.28</td>\n",
       "      <td>0.56</td>\n",
       "      <td>1.9</td>\n",
       "      <td>0.075</td>\n",
       "      <td>17.0</td>\n",
       "      <td>60.0</td>\n",
       "      <td>0.9980</td>\n",
       "      <td>3.16</td>\n",
       "      <td>0.58</td>\n",
       "      <td>9.8</td>\n",
       "      <td>6</td>\n",
       "    </tr>\n",
       "    <tr>\n",
       "      <th>4</th>\n",
       "      <td>7.4</td>\n",
       "      <td>0.70</td>\n",
       "      <td>0.00</td>\n",
       "      <td>1.9</td>\n",
       "      <td>0.076</td>\n",
       "      <td>11.0</td>\n",
       "      <td>34.0</td>\n",
       "      <td>0.9978</td>\n",
       "      <td>3.51</td>\n",
       "      <td>0.56</td>\n",
       "      <td>9.4</td>\n",
       "      <td>5</td>\n",
       "    </tr>\n",
       "  </tbody>\n",
       "</table>\n",
       "</div>"
      ],
      "text/plain": [
       "   fixed acidity  volatile acidity  citric acid  residual sugar  chlorides  \\\n",
       "0            7.4              0.70         0.00             1.9      0.076   \n",
       "1            7.8              0.88         0.00             2.6      0.098   \n",
       "2            7.8              0.76         0.04             2.3      0.092   \n",
       "3           11.2              0.28         0.56             1.9      0.075   \n",
       "4            7.4              0.70         0.00             1.9      0.076   \n",
       "\n",
       "   free sulfur dioxide  total sulfur dioxide  density    pH  sulphates  \\\n",
       "0                 11.0                  34.0   0.9978  3.51       0.56   \n",
       "1                 25.0                  67.0   0.9968  3.20       0.68   \n",
       "2                 15.0                  54.0   0.9970  3.26       0.65   \n",
       "3                 17.0                  60.0   0.9980  3.16       0.58   \n",
       "4                 11.0                  34.0   0.9978  3.51       0.56   \n",
       "\n",
       "   alcohol  quality  \n",
       "0      9.4        5  \n",
       "1      9.8        5  \n",
       "2      9.8        5  \n",
       "3      9.8        6  \n",
       "4      9.4        5  "
      ]
     },
     "execution_count": 7,
     "metadata": {},
     "output_type": "execute_result"
    }
   ],
   "source": [
    "red_wine.head()"
   ]
  },
  {
   "cell_type": "code",
   "execution_count": 8,
   "metadata": {},
   "outputs": [
    {
     "data": {
      "text/plain": [
       "(1599, 12)"
      ]
     },
     "execution_count": 8,
     "metadata": {},
     "output_type": "execute_result"
    }
   ],
   "source": [
    "red_wine.shape"
   ]
  },
  {
   "cell_type": "code",
   "execution_count": 9,
   "metadata": {},
   "outputs": [],
   "source": [
    "from tensorflow import keras\n",
    "from tensorflow.keras import layers"
   ]
  },
  {
   "cell_type": "code",
   "execution_count": 10,
   "metadata": {},
   "outputs": [],
   "source": [
    "model = keras.Sequential([\n",
    "    layers.Dense(units =1 , input_shape=[11])\n",
    "])"
   ]
  },
  {
   "cell_type": "code",
   "execution_count": 11,
   "metadata": {},
   "outputs": [
    {
     "name": "stdout",
     "output_type": "stream",
     "text": [
      "Weights\n",
      "<tf.Variable 'dense_1/kernel:0' shape=(11, 1) dtype=float32, numpy=\n",
      "array([[-0.29705605],\n",
      "       [-0.2643587 ],\n",
      "       [ 0.32024914],\n",
      "       [-0.24791586],\n",
      "       [ 0.04543632],\n",
      "       [-0.01616061],\n",
      "       [-0.4842673 ],\n",
      "       [ 0.2336945 ],\n",
      "       [ 0.6717803 ],\n",
      "       [-0.3101745 ],\n",
      "       [-0.39219362]], dtype=float32)>\n",
      "\n",
      "Bias\n",
      "<tf.Variable 'dense_1/bias:0' shape=(1,) dtype=float32, numpy=array([0.], dtype=float32)>\n"
     ]
    }
   ],
   "source": [
    "w, b = model.weights\n",
    "\n",
    "print(\"Weights\\n{}\\n\\nBias\\n{}\".format(w, b))"
   ]
  },
  {
   "cell_type": "code",
   "execution_count": 12,
   "metadata": {},
   "outputs": [],
   "source": [
    "import tensorflow as tf\n",
    "import matplotlib.pyplot as plt"
   ]
  },
  {
   "cell_type": "code",
   "execution_count": 18,
   "metadata": {},
   "outputs": [],
   "source": [
    "model = keras.Sequential([\n",
    "    layers.Dense(1, input_shape=[1]),\n",
    "])"
   ]
  },
  {
   "cell_type": "code",
   "execution_count": 22,
   "metadata": {},
   "outputs": [
    {
     "name": "stdout",
     "output_type": "stream",
     "text": [
      "4/4 [==============================] - 0s 4ms/step\n"
     ]
    },
    {
     "data": {
      "image/png": "[encoded data removed]",
      "text/plain": [
       "<Figure size 600x400 with 1 Axes>"
      ]
     },
     "metadata": {
      "needs_background": "light"
     },
     "output_type": "display_data"
    }
   ],
   "source": [
    "x = tf.linspace(-1.0, 1.0, 100)\n",
    "y = model.predict(x)\n",
    "\n",
    "plt.figure(dpi=100)\n",
    "plt.plot(x, y, 'k')\n",
    "plt.xlim(-1, 1)\n",
    "plt.ylim(-1, 1)\n",
    "plt.xlabel(\"Input: x\")\n",
    "plt.ylabel(\"Target y\")\n",
    "w, b = model.weights # you could also use model.get_weights() here\n",
    "plt.title(\"Weight: {:0.2f}\\n Bias: {:0.2f}\".format(w[0][0], b[0]))\n",
    "plt.show()"
   ]
  },
  {
   "cell_type": "markdown",
   "metadata": {},
   "source": [
    "# Deep Neural Networks"
   ]
  },
  {
   "cell_type": "code",
   "execution_count": 26,
   "metadata": {},
   "outputs": [],
   "source": [
    "from tensorflow import keras\n",
    "from tensorflow.keras import layers"
   ]
  },
  {
   "cell_type": "code",
   "execution_count": 28,
   "metadata": {},
   "outputs": [],
   "source": [
    "model = keras.Sequential([\n",
    "    layers.Dense(units= 4, activation='relu', input_shape=[2]),\n",
    "    layers.Dense(units= 3, activation='relu'),\n",
    "    layers.Dense(units= 1)\n",
    "])"
   ]
  },
  {
   "cell_type": "code",
   "execution_count": 30,
   "metadata": {},
   "outputs": [],
   "source": [
    "concrete_df = pd.read_csv('data/concrete.csv')"
   ]
  },
  {
   "cell_type": "code",
   "execution_count": 31,
   "metadata": {},
   "outputs": [
    {
     "data": {
      "text/html": [
       "<div>\n",
       "<style scoped>\n",
       "    .dataframe tbody tr th:only-of-type {\n",
       "        vertical-align: middle;\n",
       "    }\n",
       "\n",
       "    .dataframe tbody tr th {\n",
       "        vertical-align: top;\n",
       "    }\n",
       "\n",
       "    .dataframe thead th {\n",
       "        text-align: right;\n",
       "    }\n",
       "</style>\n",
       "<table border=\"1\" class=\"dataframe\">\n",
       "  <thead>\n",
       "    <tr style=\"text-align: right;\">\n",
       "      <th></th>\n",
       "      <th>Cement</th>\n",
       "      <th>BlastFurnaceSlag</th>\n",
       "      <th>FlyAsh</th>\n",
       "      <th>Water</th>\n",
       "      <th>Superplasticizer</th>\n",
       "      <th>CoarseAggregate</th>\n",
       "      <th>FineAggregate</th>\n",
       "      <th>Age</th>\n",
       "      <th>CompressiveStrength</th>\n",
       "    </tr>\n",
       "  </thead>\n",
       "  <tbody>\n",
       "    <tr>\n",
       "      <th>0</th>\n",
       "      <td>540.0</td>\n",
       "      <td>0.0</td>\n",
       "      <td>0.0</td>\n",
       "      <td>162.0</td>\n",
       "      <td>2.5</td>\n",
       "      <td>1040.0</td>\n",
       "      <td>676.0</td>\n",
       "      <td>28</td>\n",
       "      <td>79.99</td>\n",
       "    </tr>\n",
       "    <tr>\n",
       "      <th>1</th>\n",
       "      <td>540.0</td>\n",
       "      <td>0.0</td>\n",
       "      <td>0.0</td>\n",
       "      <td>162.0</td>\n",
       "      <td>2.5</td>\n",
       "      <td>1055.0</td>\n",
       "      <td>676.0</td>\n",
       "      <td>28</td>\n",
       "      <td>61.89</td>\n",
       "    </tr>\n",
       "    <tr>\n",
       "      <th>2</th>\n",
       "      <td>332.5</td>\n",
       "      <td>142.5</td>\n",
       "      <td>0.0</td>\n",
       "      <td>228.0</td>\n",
       "      <td>0.0</td>\n",
       "      <td>932.0</td>\n",
       "      <td>594.0</td>\n",
       "      <td>270</td>\n",
       "      <td>40.27</td>\n",
       "    </tr>\n",
       "    <tr>\n",
       "      <th>3</th>\n",
       "      <td>332.5</td>\n",
       "      <td>142.5</td>\n",
       "      <td>0.0</td>\n",
       "      <td>228.0</td>\n",
       "      <td>0.0</td>\n",
       "      <td>932.0</td>\n",
       "      <td>594.0</td>\n",
       "      <td>365</td>\n",
       "      <td>41.05</td>\n",
       "    </tr>\n",
       "    <tr>\n",
       "      <th>4</th>\n",
       "      <td>198.6</td>\n",
       "      <td>132.4</td>\n",
       "      <td>0.0</td>\n",
       "      <td>192.0</td>\n",
       "      <td>0.0</td>\n",
       "      <td>978.4</td>\n",
       "      <td>825.5</td>\n",
       "      <td>360</td>\n",
       "      <td>44.30</td>\n",
       "    </tr>\n",
       "  </tbody>\n",
       "</table>\n",
       "</div>"
      ],
      "text/plain": [
       "   Cement  BlastFurnaceSlag  FlyAsh  Water  Superplasticizer  CoarseAggregate  \\\n",
       "0   540.0               0.0     0.0  162.0               2.5           1040.0   \n",
       "1   540.0               0.0     0.0  162.0               2.5           1055.0   \n",
       "2   332.5             142.5     0.0  228.0               0.0            932.0   \n",
       "3   332.5             142.5     0.0  228.0               0.0            932.0   \n",
       "4   198.6             132.4     0.0  192.0               0.0            978.4   \n",
       "\n",
       "   FineAggregate  Age  CompressiveStrength  \n",
       "0          676.0   28                79.99  \n",
       "1          676.0   28                61.89  \n",
       "2          594.0  270                40.27  \n",
       "3          594.0  365                41.05  \n",
       "4          825.5  360                44.30  "
      ]
     },
     "execution_count": 31,
     "metadata": {},
     "output_type": "execute_result"
    }
   ],
   "source": [
    "concrete_df.head()"
   ]
  },
  {
   "cell_type": "code",
   "execution_count": 32,
   "metadata": {},
   "outputs": [],
   "source": [
    "model = keras.Sequential([\n",
    "    layers.Dense(units= 512, activation='relu', input_shape=[8]),\n",
    "    layers.Dense(units= 512, activation='relu'),\n",
    "    layers.Dense(units= 512, activation='relu'),\n",
    "    layers.Dense(units= 1)\n",
    "])"
   ]
  },
  {
   "cell_type": "markdown",
   "metadata": {},
   "source": [
    "# Stochastic Gradient Descent"
   ]
  },
  {
   "cell_type": "code",
   "execution_count": 49,
   "metadata": {},
   "outputs": [],
   "source": [
    "import pandas as pd"
   ]
  },
  {
   "cell_type": "code",
   "execution_count": 50,
   "metadata": {},
   "outputs": [],
   "source": [
    "red_wine = pd.read_csv('data/red-wine.csv')"
   ]
  },
  {
   "cell_type": "code",
   "execution_count": 51,
   "metadata": {},
   "outputs": [
    {
     "data": {
      "text/html": [
       "<div>\n",
       "<style scoped>\n",
       "    .dataframe tbody tr th:only-of-type {\n",
       "        vertical-align: middle;\n",
       "    }\n",
       "\n",
       "    .dataframe tbody tr th {\n",
       "        vertical-align: top;\n",
       "    }\n",
       "\n",
       "    .dataframe thead th {\n",
       "        text-align: right;\n",
       "    }\n",
       "</style>\n",
       "<table border=\"1\" class=\"dataframe\">\n",
       "  <thead>\n",
       "    <tr style=\"text-align: right;\">\n",
       "      <th></th>\n",
       "      <th>fixed acidity</th>\n",
       "      <th>volatile acidity</th>\n",
       "      <th>citric acid</th>\n",
       "      <th>residual sugar</th>\n",
       "      <th>chlorides</th>\n",
       "      <th>free sulfur dioxide</th>\n",
       "      <th>total sulfur dioxide</th>\n",
       "      <th>density</th>\n",
       "      <th>pH</th>\n",
       "      <th>sulphates</th>\n",
       "      <th>alcohol</th>\n",
       "      <th>quality</th>\n",
       "    </tr>\n",
       "  </thead>\n",
       "  <tbody>\n",
       "    <tr>\n",
       "      <th>0</th>\n",
       "      <td>7.4</td>\n",
       "      <td>0.70</td>\n",
       "      <td>0.00</td>\n",
       "      <td>1.9</td>\n",
       "      <td>0.076</td>\n",
       "      <td>11.0</td>\n",
       "      <td>34.0</td>\n",
       "      <td>0.9978</td>\n",
       "      <td>3.51</td>\n",
       "      <td>0.56</td>\n",
       "      <td>9.4</td>\n",
       "      <td>5</td>\n",
       "    </tr>\n",
       "    <tr>\n",
       "      <th>1</th>\n",
       "      <td>7.8</td>\n",
       "      <td>0.88</td>\n",
       "      <td>0.00</td>\n",
       "      <td>2.6</td>\n",
       "      <td>0.098</td>\n",
       "      <td>25.0</td>\n",
       "      <td>67.0</td>\n",
       "      <td>0.9968</td>\n",
       "      <td>3.20</td>\n",
       "      <td>0.68</td>\n",
       "      <td>9.8</td>\n",
       "      <td>5</td>\n",
       "    </tr>\n",
       "    <tr>\n",
       "      <th>2</th>\n",
       "      <td>7.8</td>\n",
       "      <td>0.76</td>\n",
       "      <td>0.04</td>\n",
       "      <td>2.3</td>\n",
       "      <td>0.092</td>\n",
       "      <td>15.0</td>\n",
       "      <td>54.0</td>\n",
       "      <td>0.9970</td>\n",
       "      <td>3.26</td>\n",
       "      <td>0.65</td>\n",
       "      <td>9.8</td>\n",
       "      <td>5</td>\n",
       "    </tr>\n",
       "    <tr>\n",
       "      <th>3</th>\n",
       "      <td>11.2</td>\n",
       "      <td>0.28</td>\n",
       "      <td>0.56</td>\n",
       "      <td>1.9</td>\n",
       "      <td>0.075</td>\n",
       "      <td>17.0</td>\n",
       "      <td>60.0</td>\n",
       "      <td>0.9980</td>\n",
       "      <td>3.16</td>\n",
       "      <td>0.58</td>\n",
       "      <td>9.8</td>\n",
       "      <td>6</td>\n",
       "    </tr>\n",
       "    <tr>\n",
       "      <th>4</th>\n",
       "      <td>7.4</td>\n",
       "      <td>0.70</td>\n",
       "      <td>0.00</td>\n",
       "      <td>1.9</td>\n",
       "      <td>0.076</td>\n",
       "      <td>11.0</td>\n",
       "      <td>34.0</td>\n",
       "      <td>0.9978</td>\n",
       "      <td>3.51</td>\n",
       "      <td>0.56</td>\n",
       "      <td>9.4</td>\n",
       "      <td>5</td>\n",
       "    </tr>\n",
       "  </tbody>\n",
       "</table>\n",
       "</div>"
      ],
      "text/plain": [
       "   fixed acidity  volatile acidity  citric acid  residual sugar  chlorides  \\\n",
       "0            7.4              0.70         0.00             1.9      0.076   \n",
       "1            7.8              0.88         0.00             2.6      0.098   \n",
       "2            7.8              0.76         0.04             2.3      0.092   \n",
       "3           11.2              0.28         0.56             1.9      0.075   \n",
       "4            7.4              0.70         0.00             1.9      0.076   \n",
       "\n",
       "   free sulfur dioxide  total sulfur dioxide  density    pH  sulphates  \\\n",
       "0                 11.0                  34.0   0.9978  3.51       0.56   \n",
       "1                 25.0                  67.0   0.9968  3.20       0.68   \n",
       "2                 15.0                  54.0   0.9970  3.26       0.65   \n",
       "3                 17.0                  60.0   0.9980  3.16       0.58   \n",
       "4                 11.0                  34.0   0.9978  3.51       0.56   \n",
       "\n",
       "   alcohol  quality  \n",
       "0      9.4        5  \n",
       "1      9.8        5  \n",
       "2      9.8        5  \n",
       "3      9.8        6  \n",
       "4      9.4        5  "
      ]
     },
     "execution_count": 51,
     "metadata": {},
     "output_type": "execute_result"
    }
   ],
   "source": [
    "red_wine.head()"
   ]
  },
  {
   "cell_type": "code",
   "execution_count": 53,
   "metadata": {},
   "outputs": [],
   "source": [
    "y = red_wine.quality\n",
    "X = red_wine.drop(['quality'], axis=1)"
   ]
  },
  {
   "cell_type": "code",
   "execution_count": 54,
   "metadata": {},
   "outputs": [],
   "source": [
    "from sklearn.model_selection import train_test_split"
   ]
  },
  {
   "cell_type": "code",
   "execution_count": 55,
   "metadata": {},
   "outputs": [],
   "source": [
    "X_train, X_test, y_train, y_test = train_test_split(X, y, test_size=0.33, random_state=0)"
   ]
  },
  {
   "cell_type": "code",
   "execution_count": 56,
   "metadata": {},
   "outputs": [],
   "source": [
    "from sklearn.preprocessing import StandardScaler"
   ]
  },
  {
   "cell_type": "code",
   "execution_count": 57,
   "metadata": {},
   "outputs": [],
   "source": [
    "scaler = StandardScaler()"
   ]
  },
  {
   "cell_type": "code",
   "execution_count": 60,
   "metadata": {},
   "outputs": [],
   "source": [
    "X_train_scaled = scaler.fit_transform(X_train)\n",
    "X_train_scaled = scaler.fit_transform(X_test)"
   ]
  },
  {
   "cell_type": "code",
   "execution_count": 61,
   "metadata": {},
   "outputs": [
    {
     "data": {
      "text/plain": [
       "(1071, 11)"
      ]
     },
     "execution_count": 61,
     "metadata": {},
     "output_type": "execute_result"
    }
   ],
   "source": [
    "X_train.shape"
   ]
  },
  {
   "cell_type": "code",
   "execution_count": 62,
   "metadata": {},
   "outputs": [],
   "source": [
    "from tensorflow import keras\n",
    "from tensorflow.keras import layers"
   ]
  },
  {
   "cell_type": "code",
   "execution_count": 63,
   "metadata": {},
   "outputs": [],
   "source": [
    "model = keras.Sequential([\n",
    "    layers.Dense(units= 512, activation='relu', input_shape=[11]),\n",
    "    layers.Dense(units= 512, activation='relu'),\n",
    "    layers.Dense(units= 512, activation='relu'),\n",
    "    layers.Dense(1),\n",
    "])"
   ]
  },
  {
   "cell_type": "code",
   "execution_count": 64,
   "metadata": {},
   "outputs": [],
   "source": [
    "model.compile(\n",
    "    optimizer = 'Adam',\n",
    "    loss = 'mae'\n",
    ")"
   ]
  },
  {
   "cell_type": "code",
   "execution_count": 65,
   "metadata": {},
   "outputs": [
    {
     "name": "stdout",
     "output_type": "stream",
     "text": [
      "Epoch 1/10\n",
      "5/5 [==============================] - 2s 111ms/step - loss: 5.2282 - val_loss: 2.4340\n",
      "Epoch 2/10\n",
      "5/5 [==============================] - 0s 33ms/step - loss: 1.6447 - val_loss: 1.2795\n",
      "Epoch 3/10\n",
      "5/5 [==============================] - 0s 68ms/step - loss: 0.9555 - val_loss: 0.9434\n",
      "Epoch 4/10\n",
      "5/5 [==============================] - 0s 92ms/step - loss: 0.7840 - val_loss: 0.5620\n",
      "Epoch 5/10\n",
      "5/5 [==============================] - 0s 46ms/step - loss: 0.6712 - val_loss: 0.6468\n",
      "Epoch 6/10\n",
      "5/5 [==============================] - 0s 42ms/step - loss: 0.6921 - val_loss: 0.5496\n",
      "Epoch 7/10\n",
      "5/5 [==============================] - 0s 38ms/step - loss: 0.5945 - val_loss: 0.5931\n",
      "Epoch 8/10\n",
      "5/5 [==============================] - 0s 36ms/step - loss: 0.6195 - val_loss: 0.5709\n",
      "Epoch 9/10\n",
      "5/5 [==============================] - 0s 39ms/step - loss: 0.6388 - val_loss: 0.5253\n",
      "Epoch 10/10\n",
      "5/5 [==============================] - 0s 30ms/step - loss: 0.5563 - val_loss: 0.5163\n"
     ]
    }
   ],
   "source": [
    "history = model.fit(\n",
    "    X_train, y_train,\n",
    "    validation_data = (X_test, y_test),\n",
    "    batch_size = 256,\n",
    "    epochs= 10,\n",
    ")"
   ]
  },
  {
   "cell_type": "code",
   "execution_count": 66,
   "metadata": {},
   "outputs": [],
   "source": [
    "import pandas as pd"
   ]
  },
  {
   "cell_type": "code",
   "execution_count": 67,
   "metadata": {},
   "outputs": [],
   "source": [
    "history_df = pd.DataFrame(history.history)"
   ]
  },
  {
   "cell_type": "code",
   "execution_count": 68,
   "metadata": {},
   "outputs": [
    {
     "data": {
      "text/plain": [
       "<AxesSubplot:>"
      ]
     },
     "execution_count": 68,
     "metadata": {},
     "output_type": "execute_result"
    },
    {
     "data": {
      "image/png": "[encoded data removed]",
      "text/plain": [
       "<Figure size 432x288 with 1 Axes>"
      ]
     },
     "metadata": {
      "needs_background": "light"
     },
     "output_type": "display_data"
    }
   ],
   "source": [
    "history_df['loss'].plot()"
   ]
  },
  {
   "cell_type": "markdown",
   "metadata": {},
   "source": [
    "## Exercise: Stochastic Gradient Descent"
   ]
  },
  {
   "cell_type": "code",
   "execution_count": 81,
   "metadata": {},
   "outputs": [],
   "source": [
    "import numpy as np\n",
    "import pandas as pd\n",
    "from sklearn.preprocessing import StandardScaler, OneHotEncoder\n",
    "from sklearn.compose import make_column_transformer, make_column_selector\n",
    "from sklearn.model_selection import train_test_split\n",
    "from sklearn.pipeline import Pipeline"
   ]
  },
  {
   "cell_type": "code",
   "execution_count": 70,
   "metadata": {},
   "outputs": [],
   "source": [
    "fuel_df = pd.read_csv('data/fuel.csv')"
   ]
  },
  {
   "cell_type": "code",
   "execution_count": 71,
   "metadata": {
    "scrolled": true
   },
   "outputs": [
    {
     "data": {
      "text/html": [
       "<div>\n",
       "<style scoped>\n",
       "    .dataframe tbody tr th:only-of-type {\n",
       "        vertical-align: middle;\n",
       "    }\n",
       "\n",
       "    .dataframe tbody tr th {\n",
       "        vertical-align: top;\n",
       "    }\n",
       "\n",
       "    .dataframe thead th {\n",
       "        text-align: right;\n",
       "    }\n",
       "</style>\n",
       "<table border=\"1\" class=\"dataframe\">\n",
       "  <thead>\n",
       "    <tr style=\"text-align: right;\">\n",
       "      <th></th>\n",
       "      <th>EngDispl</th>\n",
       "      <th>NumCyl</th>\n",
       "      <th>Transmission</th>\n",
       "      <th>FE</th>\n",
       "      <th>AirAspirationMethod</th>\n",
       "      <th>NumGears</th>\n",
       "      <th>TransLockup</th>\n",
       "      <th>TransCreeperGear</th>\n",
       "      <th>DriveDesc</th>\n",
       "      <th>IntakeValvePerCyl</th>\n",
       "      <th>ExhaustValvesPerCyl</th>\n",
       "      <th>CarlineClassDesc</th>\n",
       "      <th>VarValveTiming</th>\n",
       "      <th>VarValveLift</th>\n",
       "    </tr>\n",
       "  </thead>\n",
       "  <tbody>\n",
       "    <tr>\n",
       "      <th>0</th>\n",
       "      <td>4.7</td>\n",
       "      <td>8</td>\n",
       "      <td>AM6</td>\n",
       "      <td>28.0198</td>\n",
       "      <td>NaturallyAspirated</td>\n",
       "      <td>6</td>\n",
       "      <td>1</td>\n",
       "      <td>0</td>\n",
       "      <td>TwoWheelDriveRear</td>\n",
       "      <td>2</td>\n",
       "      <td>2</td>\n",
       "      <td>2Seaters</td>\n",
       "      <td>1</td>\n",
       "      <td>0</td>\n",
       "    </tr>\n",
       "    <tr>\n",
       "      <th>1</th>\n",
       "      <td>4.7</td>\n",
       "      <td>8</td>\n",
       "      <td>M6</td>\n",
       "      <td>25.6094</td>\n",
       "      <td>NaturallyAspirated</td>\n",
       "      <td>6</td>\n",
       "      <td>1</td>\n",
       "      <td>0</td>\n",
       "      <td>TwoWheelDriveRear</td>\n",
       "      <td>2</td>\n",
       "      <td>2</td>\n",
       "      <td>2Seaters</td>\n",
       "      <td>1</td>\n",
       "      <td>0</td>\n",
       "    </tr>\n",
       "    <tr>\n",
       "      <th>2</th>\n",
       "      <td>4.2</td>\n",
       "      <td>8</td>\n",
       "      <td>M6</td>\n",
       "      <td>26.8000</td>\n",
       "      <td>NaturallyAspirated</td>\n",
       "      <td>6</td>\n",
       "      <td>1</td>\n",
       "      <td>0</td>\n",
       "      <td>AllWheelDrive</td>\n",
       "      <td>2</td>\n",
       "      <td>2</td>\n",
       "      <td>2Seaters</td>\n",
       "      <td>1</td>\n",
       "      <td>0</td>\n",
       "    </tr>\n",
       "    <tr>\n",
       "      <th>3</th>\n",
       "      <td>4.2</td>\n",
       "      <td>8</td>\n",
       "      <td>AM6</td>\n",
       "      <td>25.0451</td>\n",
       "      <td>NaturallyAspirated</td>\n",
       "      <td>6</td>\n",
       "      <td>1</td>\n",
       "      <td>0</td>\n",
       "      <td>AllWheelDrive</td>\n",
       "      <td>2</td>\n",
       "      <td>2</td>\n",
       "      <td>2Seaters</td>\n",
       "      <td>1</td>\n",
       "      <td>0</td>\n",
       "    </tr>\n",
       "    <tr>\n",
       "      <th>4</th>\n",
       "      <td>5.2</td>\n",
       "      <td>10</td>\n",
       "      <td>AM6</td>\n",
       "      <td>24.8000</td>\n",
       "      <td>NaturallyAspirated</td>\n",
       "      <td>6</td>\n",
       "      <td>0</td>\n",
       "      <td>0</td>\n",
       "      <td>AllWheelDrive</td>\n",
       "      <td>2</td>\n",
       "      <td>2</td>\n",
       "      <td>2Seaters</td>\n",
       "      <td>1</td>\n",
       "      <td>0</td>\n",
       "    </tr>\n",
       "  </tbody>\n",
       "</table>\n",
       "</div>"
      ],
      "text/plain": [
       "   EngDispl  NumCyl Transmission       FE AirAspirationMethod  NumGears  \\\n",
       "0       4.7       8          AM6  28.0198  NaturallyAspirated         6   \n",
       "1       4.7       8           M6  25.6094  NaturallyAspirated         6   \n",
       "2       4.2       8           M6  26.8000  NaturallyAspirated         6   \n",
       "3       4.2       8          AM6  25.0451  NaturallyAspirated         6   \n",
       "4       5.2      10          AM6  24.8000  NaturallyAspirated         6   \n",
       "\n",
       "   TransLockup  TransCreeperGear          DriveDesc  IntakeValvePerCyl  \\\n",
       "0            1                 0  TwoWheelDriveRear                  2   \n",
       "1            1                 0  TwoWheelDriveRear                  2   \n",
       "2            1                 0      AllWheelDrive                  2   \n",
       "3            1                 0      AllWheelDrive                  2   \n",
       "4            0                 0      AllWheelDrive                  2   \n",
       "\n",
       "   ExhaustValvesPerCyl CarlineClassDesc  VarValveTiming  VarValveLift  \n",
       "0                    2         2Seaters               1             0  \n",
       "1                    2         2Seaters               1             0  \n",
       "2                    2         2Seaters               1             0  \n",
       "3                    2         2Seaters               1             0  \n",
       "4                    2         2Seaters               1             0  "
      ]
     },
     "execution_count": 71,
     "metadata": {},
     "output_type": "execute_result"
    }
   ],
   "source": [
    "fuel_df.head()"
   ]
  },
  {
   "cell_type": "code",
   "execution_count": 86,
   "metadata": {},
   "outputs": [],
   "source": [
    "X = fuel_df.copy()"
   ]
  },
  {
   "cell_type": "code",
   "execution_count": 87,
   "metadata": {},
   "outputs": [],
   "source": [
    "y = X.pop('FE')"
   ]
  },
  {
   "cell_type": "code",
   "execution_count": 88,
   "metadata": {},
   "outputs": [],
   "source": [
    "preprocess = make_column_transformer(\n",
    "    (StandardScaler(), make_column_selector(dtype_include=np.number)),\n",
    "    (OneHotEncoder(sparse_output=False) , make_column_selector(dtype_include=object)),\n",
    ")"
   ]
  },
  {
   "cell_type": "code",
   "execution_count": 89,
   "metadata": {},
   "outputs": [],
   "source": [
    "X = preprocess.fit_transform(X)"
   ]
  },
  {
   "cell_type": "code",
   "execution_count": 90,
   "metadata": {},
   "outputs": [],
   "source": [
    "y = np.log(y)"
   ]
  },
  {
   "cell_type": "code",
   "execution_count": 91,
   "metadata": {},
   "outputs": [
    {
     "data": {
      "text/plain": [
       "(1107, 50)"
      ]
     },
     "execution_count": 91,
     "metadata": {},
     "output_type": "execute_result"
    }
   ],
   "source": [
    "X.shape"
   ]
  },
  {
   "cell_type": "code",
   "execution_count": 93,
   "metadata": {},
   "outputs": [
    {
     "data": {
      "text/html": [
       "<div>\n",
       "<style scoped>\n",
       "    .dataframe tbody tr th:only-of-type {\n",
       "        vertical-align: middle;\n",
       "    }\n",
       "\n",
       "    .dataframe tbody tr th {\n",
       "        vertical-align: top;\n",
       "    }\n",
       "\n",
       "    .dataframe thead th {\n",
       "        text-align: right;\n",
       "    }\n",
       "</style>\n",
       "<table border=\"1\" class=\"dataframe\">\n",
       "  <thead>\n",
       "    <tr style=\"text-align: right;\">\n",
       "      <th></th>\n",
       "      <th>0</th>\n",
       "      <th>1</th>\n",
       "      <th>2</th>\n",
       "      <th>3</th>\n",
       "      <th>4</th>\n",
       "      <th>5</th>\n",
       "      <th>6</th>\n",
       "      <th>7</th>\n",
       "      <th>8</th>\n",
       "      <th>9</th>\n",
       "      <th>...</th>\n",
       "      <th>40</th>\n",
       "      <th>41</th>\n",
       "      <th>42</th>\n",
       "      <th>43</th>\n",
       "      <th>44</th>\n",
       "      <th>45</th>\n",
       "      <th>46</th>\n",
       "      <th>47</th>\n",
       "      <th>48</th>\n",
       "      <th>49</th>\n",
       "    </tr>\n",
       "  </thead>\n",
       "  <tbody>\n",
       "    <tr>\n",
       "      <th>0</th>\n",
       "      <td>0.913643</td>\n",
       "      <td>1.068005</td>\n",
       "      <td>0.524148</td>\n",
       "      <td>0.685653</td>\n",
       "      <td>-0.226455</td>\n",
       "      <td>0.391659</td>\n",
       "      <td>0.43492</td>\n",
       "      <td>0.463841</td>\n",
       "      <td>-0.447941</td>\n",
       "      <td>0.0</td>\n",
       "      <td>...</td>\n",
       "      <td>0.0</td>\n",
       "      <td>0.0</td>\n",
       "      <td>0.0</td>\n",
       "      <td>0.0</td>\n",
       "      <td>0.0</td>\n",
       "      <td>0.0</td>\n",
       "      <td>0.0</td>\n",
       "      <td>0.0</td>\n",
       "      <td>0.0</td>\n",
       "      <td>0.0</td>\n",
       "    </tr>\n",
       "    <tr>\n",
       "      <th>1</th>\n",
       "      <td>0.913643</td>\n",
       "      <td>1.068005</td>\n",
       "      <td>0.524148</td>\n",
       "      <td>0.685653</td>\n",
       "      <td>-0.226455</td>\n",
       "      <td>0.391659</td>\n",
       "      <td>0.43492</td>\n",
       "      <td>0.463841</td>\n",
       "      <td>-0.447941</td>\n",
       "      <td>0.0</td>\n",
       "      <td>...</td>\n",
       "      <td>0.0</td>\n",
       "      <td>0.0</td>\n",
       "      <td>0.0</td>\n",
       "      <td>0.0</td>\n",
       "      <td>0.0</td>\n",
       "      <td>0.0</td>\n",
       "      <td>0.0</td>\n",
       "      <td>0.0</td>\n",
       "      <td>0.0</td>\n",
       "      <td>0.0</td>\n",
       "    </tr>\n",
       "    <tr>\n",
       "      <th>2</th>\n",
       "      <td>0.530594</td>\n",
       "      <td>1.068005</td>\n",
       "      <td>0.524148</td>\n",
       "      <td>0.685653</td>\n",
       "      <td>-0.226455</td>\n",
       "      <td>0.391659</td>\n",
       "      <td>0.43492</td>\n",
       "      <td>0.463841</td>\n",
       "      <td>-0.447941</td>\n",
       "      <td>0.0</td>\n",
       "      <td>...</td>\n",
       "      <td>0.0</td>\n",
       "      <td>0.0</td>\n",
       "      <td>0.0</td>\n",
       "      <td>0.0</td>\n",
       "      <td>0.0</td>\n",
       "      <td>0.0</td>\n",
       "      <td>0.0</td>\n",
       "      <td>0.0</td>\n",
       "      <td>0.0</td>\n",
       "      <td>0.0</td>\n",
       "    </tr>\n",
       "    <tr>\n",
       "      <th>3</th>\n",
       "      <td>0.530594</td>\n",
       "      <td>1.068005</td>\n",
       "      <td>0.524148</td>\n",
       "      <td>0.685653</td>\n",
       "      <td>-0.226455</td>\n",
       "      <td>0.391659</td>\n",
       "      <td>0.43492</td>\n",
       "      <td>0.463841</td>\n",
       "      <td>-0.447941</td>\n",
       "      <td>0.0</td>\n",
       "      <td>...</td>\n",
       "      <td>0.0</td>\n",
       "      <td>0.0</td>\n",
       "      <td>0.0</td>\n",
       "      <td>0.0</td>\n",
       "      <td>0.0</td>\n",
       "      <td>0.0</td>\n",
       "      <td>0.0</td>\n",
       "      <td>0.0</td>\n",
       "      <td>0.0</td>\n",
       "      <td>0.0</td>\n",
       "    </tr>\n",
       "    <tr>\n",
       "      <th>4</th>\n",
       "      <td>1.296693</td>\n",
       "      <td>2.120794</td>\n",
       "      <td>0.524148</td>\n",
       "      <td>-1.458464</td>\n",
       "      <td>-0.226455</td>\n",
       "      <td>0.391659</td>\n",
       "      <td>0.43492</td>\n",
       "      <td>0.463841</td>\n",
       "      <td>-0.447941</td>\n",
       "      <td>0.0</td>\n",
       "      <td>...</td>\n",
       "      <td>0.0</td>\n",
       "      <td>0.0</td>\n",
       "      <td>0.0</td>\n",
       "      <td>0.0</td>\n",
       "      <td>0.0</td>\n",
       "      <td>0.0</td>\n",
       "      <td>0.0</td>\n",
       "      <td>0.0</td>\n",
       "      <td>0.0</td>\n",
       "      <td>0.0</td>\n",
       "    </tr>\n",
       "  </tbody>\n",
       "</table>\n",
       "<p>5 rows × 50 columns</p>\n",
       "</div>"
      ],
      "text/plain": [
       "         0         1         2         3         4         5        6   \\\n",
       "0  0.913643  1.068005  0.524148  0.685653 -0.226455  0.391659  0.43492   \n",
       "1  0.913643  1.068005  0.524148  0.685653 -0.226455  0.391659  0.43492   \n",
       "2  0.530594  1.068005  0.524148  0.685653 -0.226455  0.391659  0.43492   \n",
       "3  0.530594  1.068005  0.524148  0.685653 -0.226455  0.391659  0.43492   \n",
       "4  1.296693  2.120794  0.524148 -1.458464 -0.226455  0.391659  0.43492   \n",
       "\n",
       "         7         8    9   ...   40   41   42   43   44   45   46   47   48  \\\n",
       "0  0.463841 -0.447941  0.0  ...  0.0  0.0  0.0  0.0  0.0  0.0  0.0  0.0  0.0   \n",
       "1  0.463841 -0.447941  0.0  ...  0.0  0.0  0.0  0.0  0.0  0.0  0.0  0.0  0.0   \n",
       "2  0.463841 -0.447941  0.0  ...  0.0  0.0  0.0  0.0  0.0  0.0  0.0  0.0  0.0   \n",
       "3  0.463841 -0.447941  0.0  ...  0.0  0.0  0.0  0.0  0.0  0.0  0.0  0.0  0.0   \n",
       "4  0.463841 -0.447941  0.0  ...  0.0  0.0  0.0  0.0  0.0  0.0  0.0  0.0  0.0   \n",
       "\n",
       "    49  \n",
       "0  0.0  \n",
       "1  0.0  \n",
       "2  0.0  \n",
       "3  0.0  \n",
       "4  0.0  \n",
       "\n",
       "[5 rows x 50 columns]"
      ]
     },
     "execution_count": 93,
     "metadata": {},
     "output_type": "execute_result"
    }
   ],
   "source": [
    "pd.DataFrame(X[:10,:]).head()"
   ]
  },
  {
   "cell_type": "code",
   "execution_count": 94,
   "metadata": {},
   "outputs": [],
   "source": [
    "from tensorflow import keras\n",
    "from tensorflow.keras import layers"
   ]
  },
  {
   "cell_type": "code",
   "execution_count": 95,
   "metadata": {},
   "outputs": [],
   "source": [
    "model = keras.Sequential([\n",
    "    layers.Dense(units = 128, activation='relu', input_shape=[50]),\n",
    "    layers.Dense(128, activation='relu'),    \n",
    "    layers.Dense(64, activation='relu'),\n",
    "    layers.Dense(1),\n",
    "])"
   ]
  },
  {
   "cell_type": "code",
   "execution_count": 96,
   "metadata": {},
   "outputs": [],
   "source": [
    "model.compile(\n",
    "    optimizer = 'Adam',\n",
    "    loss = 'mae'\n",
    ")"
   ]
  },
  {
   "cell_type": "code",
   "execution_count": 97,
   "metadata": {
    "scrolled": true
   },
   "outputs": [
    {
     "name": "stdout",
     "output_type": "stream",
     "text": [
      "Epoch 1/200\n",
      "9/9 [==============================] - 1s 4ms/step - loss: 2.6936\n",
      "Epoch 2/200\n",
      "9/9 [==============================] - 0s 6ms/step - loss: 0.9976\n",
      "Epoch 3/200\n",
      "9/9 [==============================] - 0s 9ms/step - loss: 0.5647\n",
      "Epoch 4/200\n",
      "9/9 [==============================] - 0s 7ms/step - loss: 0.3231\n",
      "Epoch 5/200\n",
      "9/9 [==============================] - 0s 5ms/step - loss: 0.2281\n",
      "Epoch 6/200\n",
      "9/9 [==============================] - 0s 5ms/step - loss: 0.1847\n",
      "Epoch 7/200\n",
      "9/9 [==============================] - 0s 5ms/step - loss: 0.1525\n",
      "Epoch 8/200\n",
      "9/9 [==============================] - 0s 5ms/step - loss: 0.1312\n",
      "Epoch 9/200\n",
      "9/9 [==============================] - 0s 4ms/step - loss: 0.1127\n",
      "Epoch 10/200\n",
      "9/9 [==============================] - 0s 5ms/step - loss: 0.0949\n",
      "Epoch 11/200\n",
      "9/9 [==============================] - 0s 5ms/step - loss: 0.0864\n",
      "Epoch 12/200\n",
      "9/9 [==============================] - 0s 7ms/step - loss: 0.0809\n",
      "Epoch 13/200\n",
      "9/9 [==============================] - 0s 8ms/step - loss: 0.0741\n",
      "Epoch 14/200\n",
      "9/9 [==============================] - 0s 7ms/step - loss: 0.0693\n",
      "Epoch 15/200\n",
      "9/9 [==============================] - 0s 9ms/step - loss: 0.0664\n",
      "Epoch 16/200\n",
      "9/9 [==============================] - 0s 9ms/step - loss: 0.0637\n",
      "Epoch 17/200\n",
      "9/9 [==============================] - 0s 5ms/step - loss: 0.0623\n",
      "Epoch 18/200\n",
      "9/9 [==============================] - 0s 8ms/step - loss: 0.0614\n",
      "Epoch 19/200\n",
      "9/9 [==============================] - 0s 8ms/step - loss: 0.0560\n",
      "Epoch 20/200\n",
      "9/9 [==============================] - 0s 5ms/step - loss: 0.0515\n",
      "Epoch 21/200\n",
      "9/9 [==============================] - 0s 11ms/step - loss: 0.0499\n",
      "Epoch 22/200\n",
      "9/9 [==============================] - 0s 9ms/step - loss: 0.0514\n",
      "Epoch 23/200\n",
      "9/9 [==============================] - 0s 8ms/step - loss: 0.0565\n",
      "Epoch 24/200\n",
      "9/9 [==============================] - 0s 7ms/step - loss: 0.0524\n",
      "Epoch 25/200\n",
      "9/9 [==============================] - 0s 5ms/step - loss: 0.0469\n",
      "Epoch 26/200\n",
      "9/9 [==============================] - 0s 9ms/step - loss: 0.0471\n",
      "Epoch 27/200\n",
      "9/9 [==============================] - 0s 7ms/step - loss: 0.0455\n",
      "Epoch 28/200\n",
      "9/9 [==============================] - 0s 8ms/step - loss: 0.0466\n",
      "Epoch 29/200\n",
      "9/9 [==============================] - 0s 6ms/step - loss: 0.0439\n",
      "Epoch 30/200\n",
      "9/9 [==============================] - 0s 6ms/step - loss: 0.0456\n",
      "Epoch 31/200\n",
      "9/9 [==============================] - 0s 4ms/step - loss: 0.0488\n",
      "Epoch 32/200\n",
      "9/9 [==============================] - 0s 5ms/step - loss: 0.0506\n",
      "Epoch 33/200\n",
      "9/9 [==============================] - 0s 5ms/step - loss: 0.0479\n",
      "Epoch 34/200\n",
      "9/9 [==============================] - 0s 8ms/step - loss: 0.0446\n",
      "Epoch 35/200\n",
      "9/9 [==============================] - 0s 6ms/step - loss: 0.0502\n",
      "Epoch 36/200\n",
      "9/9 [==============================] - 0s 15ms/step - loss: 0.0467\n",
      "Epoch 37/200\n",
      "9/9 [==============================] - 0s 7ms/step - loss: 0.0470\n",
      "Epoch 38/200\n",
      "9/9 [==============================] - 0s 8ms/step - loss: 0.0430\n",
      "Epoch 39/200\n",
      "9/9 [==============================] - 0s 12ms/step - loss: 0.0416\n",
      "Epoch 40/200\n",
      "9/9 [==============================] - 0s 4ms/step - loss: 0.0431\n",
      "Epoch 41/200\n",
      "9/9 [==============================] - 0s 4ms/step - loss: 0.0469\n",
      "Epoch 42/200\n",
      "9/9 [==============================] - 0s 6ms/step - loss: 0.0441\n",
      "Epoch 43/200\n",
      "9/9 [==============================] - 0s 7ms/step - loss: 0.0417\n",
      "Epoch 44/200\n",
      "9/9 [==============================] - 0s 8ms/step - loss: 0.0377\n",
      "Epoch 45/200\n",
      "9/9 [==============================] - 0s 10ms/step - loss: 0.0387\n",
      "Epoch 46/200\n",
      "9/9 [==============================] - 0s 5ms/step - loss: 0.0375\n",
      "Epoch 47/200\n",
      "9/9 [==============================] - 0s 10ms/step - loss: 0.0368\n",
      "Epoch 48/200\n",
      "9/9 [==============================] - 0s 6ms/step - loss: 0.0379\n",
      "Epoch 49/200\n",
      "9/9 [==============================] - 0s 6ms/step - loss: 0.0366\n",
      "Epoch 50/200\n",
      "9/9 [==============================] - 0s 10ms/step - loss: 0.0349\n",
      "Epoch 51/200\n",
      "9/9 [==============================] - 0s 11ms/step - loss: 0.0338\n",
      "Epoch 52/200\n",
      "9/9 [==============================] - 0s 6ms/step - loss: 0.0348\n",
      "Epoch 53/200\n",
      "9/9 [==============================] - 0s 9ms/step - loss: 0.0379\n",
      "Epoch 54/200\n",
      "9/9 [==============================] - 0s 6ms/step - loss: 0.0447\n",
      "Epoch 55/200\n",
      "9/9 [==============================] - 0s 5ms/step - loss: 0.0430\n",
      "Epoch 56/200\n",
      "9/9 [==============================] - 0s 5ms/step - loss: 0.0397\n",
      "Epoch 57/200\n",
      "9/9 [==============================] - 0s 5ms/step - loss: 0.0359\n",
      "Epoch 58/200\n",
      "9/9 [==============================] - 0s 4ms/step - loss: 0.0411\n",
      "Epoch 59/200\n",
      "9/9 [==============================] - 0s 6ms/step - loss: 0.0384\n",
      "Epoch 60/200\n",
      "9/9 [==============================] - 0s 5ms/step - loss: 0.0361\n",
      "Epoch 61/200\n",
      "9/9 [==============================] - 0s 4ms/step - loss: 0.0340\n",
      "Epoch 62/200\n",
      "9/9 [==============================] - 0s 6ms/step - loss: 0.0354\n",
      "Epoch 63/200\n",
      "9/9 [==============================] - 0s 6ms/step - loss: 0.0331\n",
      "Epoch 64/200\n",
      "9/9 [==============================] - 0s 6ms/step - loss: 0.0362\n",
      "Epoch 65/200\n",
      "9/9 [==============================] - 0s 5ms/step - loss: 0.0382\n",
      "Epoch 66/200\n",
      "9/9 [==============================] - 0s 6ms/step - loss: 0.0349\n",
      "Epoch 67/200\n",
      "9/9 [==============================] - 0s 8ms/step - loss: 0.0323\n",
      "Epoch 68/200\n",
      "9/9 [==============================] - 0s 6ms/step - loss: 0.0343\n",
      "Epoch 69/200\n",
      "9/9 [==============================] - 0s 5ms/step - loss: 0.0375\n",
      "Epoch 70/200\n",
      "9/9 [==============================] - 0s 5ms/step - loss: 0.0430\n",
      "Epoch 71/200\n",
      "9/9 [==============================] - 0s 5ms/step - loss: 0.0362\n",
      "Epoch 72/200\n",
      "9/9 [==============================] - 0s 6ms/step - loss: 0.0320\n",
      "Epoch 73/200\n",
      "9/9 [==============================] - 0s 5ms/step - loss: 0.0413\n",
      "Epoch 74/200\n",
      "9/9 [==============================] - 0s 4ms/step - loss: 0.0460\n",
      "Epoch 75/200\n",
      "9/9 [==============================] - 0s 5ms/step - loss: 0.0561\n",
      "Epoch 76/200\n",
      "9/9 [==============================] - 0s 5ms/step - loss: 0.0490\n",
      "Epoch 77/200\n",
      "9/9 [==============================] - 0s 5ms/step - loss: 0.0477\n",
      "Epoch 78/200\n",
      "9/9 [==============================] - 0s 5ms/step - loss: 0.0425\n",
      "Epoch 79/200\n",
      "9/9 [==============================] - 0s 5ms/step - loss: 0.0333\n",
      "Epoch 80/200\n",
      "9/9 [==============================] - 0s 5ms/step - loss: 0.0385\n",
      "Epoch 81/200\n",
      "9/9 [==============================] - 0s 6ms/step - loss: 0.0378\n",
      "Epoch 82/200\n",
      "9/9 [==============================] - 0s 6ms/step - loss: 0.0330\n",
      "Epoch 83/200\n",
      "9/9 [==============================] - 0s 6ms/step - loss: 0.0341\n",
      "Epoch 84/200\n",
      "9/9 [==============================] - 0s 5ms/step - loss: 0.0368\n",
      "Epoch 85/200\n",
      "9/9 [==============================] - 0s 5ms/step - loss: 0.0356\n",
      "Epoch 86/200\n",
      "9/9 [==============================] - 0s 4ms/step - loss: 0.0344\n",
      "Epoch 87/200\n",
      "9/9 [==============================] - 0s 6ms/step - loss: 0.0346\n",
      "Epoch 88/200\n",
      "9/9 [==============================] - 0s 6ms/step - loss: 0.0367\n",
      "Epoch 89/200\n",
      "9/9 [==============================] - 0s 5ms/step - loss: 0.0356\n",
      "Epoch 90/200\n",
      "9/9 [==============================] - 0s 5ms/step - loss: 0.0337\n",
      "Epoch 91/200\n",
      "9/9 [==============================] - 0s 5ms/step - loss: 0.0323\n",
      "Epoch 92/200\n",
      "9/9 [==============================] - 0s 6ms/step - loss: 0.0326\n",
      "Epoch 93/200\n",
      "9/9 [==============================] - 0s 5ms/step - loss: 0.0302\n",
      "Epoch 94/200\n",
      "9/9 [==============================] - 0s 6ms/step - loss: 0.0311\n",
      "Epoch 95/200\n",
      "9/9 [==============================] - 0s 8ms/step - loss: 0.0303\n",
      "Epoch 96/200\n",
      "9/9 [==============================] - 0s 27ms/step - loss: 0.0304\n",
      "Epoch 97/200\n",
      "9/9 [==============================] - 0s 12ms/step - loss: 0.0294\n",
      "Epoch 98/200\n",
      "9/9 [==============================] - 0s 6ms/step - loss: 0.0321\n",
      "Epoch 99/200\n",
      "9/9 [==============================] - 0s 23ms/step - loss: 0.0368\n",
      "Epoch 100/200\n",
      "9/9 [==============================] - 0s 4ms/step - loss: 0.0299\n",
      "Epoch 101/200\n",
      "9/9 [==============================] - 0s 5ms/step - loss: 0.0308\n",
      "Epoch 102/200\n",
      "9/9 [==============================] - 0s 5ms/step - loss: 0.0347\n",
      "Epoch 103/200\n",
      "9/9 [==============================] - 0s 5ms/step - loss: 0.0289\n",
      "Epoch 104/200\n"
     ]
    },
    {
     "name": "stdout",
     "output_type": "stream",
     "text": [
      "9/9 [==============================] - 0s 5ms/step - loss: 0.0311\n",
      "Epoch 105/200\n",
      "9/9 [==============================] - 0s 6ms/step - loss: 0.0298\n",
      "Epoch 106/200\n",
      "9/9 [==============================] - 0s 4ms/step - loss: 0.0314\n",
      "Epoch 107/200\n",
      "9/9 [==============================] - 0s 6ms/step - loss: 0.0396\n",
      "Epoch 108/200\n",
      "9/9 [==============================] - 0s 3ms/step - loss: 0.0358\n",
      "Epoch 109/200\n",
      "9/9 [==============================] - 0s 4ms/step - loss: 0.0314\n",
      "Epoch 110/200\n",
      "9/9 [==============================] - 0s 4ms/step - loss: 0.0439\n",
      "Epoch 111/200\n",
      "9/9 [==============================] - 0s 4ms/step - loss: 0.0333\n",
      "Epoch 112/200\n",
      "9/9 [==============================] - 0s 4ms/step - loss: 0.0295\n",
      "Epoch 113/200\n",
      "9/9 [==============================] - 0s 4ms/step - loss: 0.0294\n",
      "Epoch 114/200\n",
      "9/9 [==============================] - 0s 4ms/step - loss: 0.0289\n",
      "Epoch 115/200\n",
      "9/9 [==============================] - 0s 4ms/step - loss: 0.0290\n",
      "Epoch 116/200\n",
      "9/9 [==============================] - 0s 4ms/step - loss: 0.0313\n",
      "Epoch 117/200\n",
      "9/9 [==============================] - 0s 4ms/step - loss: 0.0283\n",
      "Epoch 118/200\n",
      "9/9 [==============================] - 0s 4ms/step - loss: 0.0283\n",
      "Epoch 119/200\n",
      "9/9 [==============================] - 0s 4ms/step - loss: 0.0261\n",
      "Epoch 120/200\n",
      "9/9 [==============================] - 0s 4ms/step - loss: 0.0266\n",
      "Epoch 121/200\n",
      "9/9 [==============================] - 0s 3ms/step - loss: 0.0286\n",
      "Epoch 122/200\n",
      "9/9 [==============================] - 0s 3ms/step - loss: 0.0300\n",
      "Epoch 123/200\n",
      "9/9 [==============================] - 0s 21ms/step - loss: 0.0327\n",
      "Epoch 124/200\n",
      "9/9 [==============================] - 0s 4ms/step - loss: 0.0313\n",
      "Epoch 125/200\n",
      "9/9 [==============================] - 0s 4ms/step - loss: 0.0337\n",
      "Epoch 126/200\n",
      "9/9 [==============================] - 0s 4ms/step - loss: 0.0313\n",
      "Epoch 127/200\n",
      "9/9 [==============================] - 0s 4ms/step - loss: 0.0422\n",
      "Epoch 128/200\n",
      "9/9 [==============================] - 0s 4ms/step - loss: 0.0333\n",
      "Epoch 129/200\n",
      "9/9 [==============================] - 0s 4ms/step - loss: 0.0365\n",
      "Epoch 130/200\n",
      "9/9 [==============================] - 0s 4ms/step - loss: 0.0348\n",
      "Epoch 131/200\n",
      "9/9 [==============================] - 0s 4ms/step - loss: 0.0331\n",
      "Epoch 132/200\n",
      "9/9 [==============================] - 0s 5ms/step - loss: 0.0305\n",
      "Epoch 133/200\n",
      "9/9 [==============================] - 0s 3ms/step - loss: 0.0272\n",
      "Epoch 134/200\n",
      "9/9 [==============================] - 0s 3ms/step - loss: 0.0316\n",
      "Epoch 135/200\n",
      "9/9 [==============================] - 0s 3ms/step - loss: 0.0334\n",
      "Epoch 136/200\n",
      "9/9 [==============================] - 0s 3ms/step - loss: 0.0347\n",
      "Epoch 137/200\n",
      "9/9 [==============================] - 0s 5ms/step - loss: 0.0457\n",
      "Epoch 138/200\n",
      "9/9 [==============================] - 0s 11ms/step - loss: 0.0395\n",
      "Epoch 139/200\n",
      "9/9 [==============================] - 0s 6ms/step - loss: 0.0371\n",
      "Epoch 140/200\n",
      "9/9 [==============================] - 0s 5ms/step - loss: 0.0359\n",
      "Epoch 141/200\n",
      "9/9 [==============================] - 0s 4ms/step - loss: 0.0327\n",
      "Epoch 142/200\n",
      "9/9 [==============================] - 0s 4ms/step - loss: 0.0330\n",
      "Epoch 143/200\n",
      "9/9 [==============================] - 0s 5ms/step - loss: 0.0315\n",
      "Epoch 144/200\n",
      "9/9 [==============================] - 0s 4ms/step - loss: 0.0301\n",
      "Epoch 145/200\n",
      "9/9 [==============================] - 0s 4ms/step - loss: 0.0280\n",
      "Epoch 146/200\n",
      "9/9 [==============================] - 0s 4ms/step - loss: 0.0280\n",
      "Epoch 147/200\n",
      "9/9 [==============================] - 0s 5ms/step - loss: 0.0286\n",
      "Epoch 148/200\n",
      "9/9 [==============================] - 0s 3ms/step - loss: 0.0288\n",
      "Epoch 149/200\n",
      "9/9 [==============================] - 0s 4ms/step - loss: 0.0265\n",
      "Epoch 150/200\n",
      "9/9 [==============================] - 0s 3ms/step - loss: 0.0281\n",
      "Epoch 151/200\n",
      "9/9 [==============================] - 0s 6ms/step - loss: 0.0287\n",
      "Epoch 152/200\n",
      "9/9 [==============================] - 0s 5ms/step - loss: 0.0326\n",
      "Epoch 153/200\n",
      "9/9 [==============================] - 0s 4ms/step - loss: 0.0319\n",
      "Epoch 154/200\n",
      "9/9 [==============================] - 0s 5ms/step - loss: 0.0290\n",
      "Epoch 155/200\n",
      "9/9 [==============================] - 0s 3ms/step - loss: 0.0282\n",
      "Epoch 156/200\n",
      "9/9 [==============================] - 0s 3ms/step - loss: 0.0348\n",
      "Epoch 157/200\n",
      "9/9 [==============================] - 0s 4ms/step - loss: 0.0370\n",
      "Epoch 158/200\n",
      "9/9 [==============================] - 0s 4ms/step - loss: 0.0385\n",
      "Epoch 159/200\n",
      "9/9 [==============================] - 0s 4ms/step - loss: 0.0306\n",
      "Epoch 160/200\n",
      "9/9 [==============================] - 0s 6ms/step - loss: 0.0346\n",
      "Epoch 161/200\n",
      "9/9 [==============================] - 0s 5ms/step - loss: 0.0314\n",
      "Epoch 162/200\n",
      "9/9 [==============================] - 0s 6ms/step - loss: 0.0284\n",
      "Epoch 163/200\n",
      "9/9 [==============================] - 0s 4ms/step - loss: 0.0275\n",
      "Epoch 164/200\n",
      "9/9 [==============================] - 0s 5ms/step - loss: 0.0276\n",
      "Epoch 165/200\n",
      "9/9 [==============================] - 0s 4ms/step - loss: 0.0378\n",
      "Epoch 166/200\n",
      "9/9 [==============================] - 0s 3ms/step - loss: 0.0328\n",
      "Epoch 167/200\n",
      "9/9 [==============================] - 0s 4ms/step - loss: 0.0343\n",
      "Epoch 168/200\n",
      "9/9 [==============================] - 0s 3ms/step - loss: 0.0329\n",
      "Epoch 169/200\n",
      "9/9 [==============================] - 0s 3ms/step - loss: 0.0305\n",
      "Epoch 170/200\n",
      "9/9 [==============================] - 0s 3ms/step - loss: 0.0289\n",
      "Epoch 171/200\n",
      "9/9 [==============================] - 0s 3ms/step - loss: 0.0282\n",
      "Epoch 172/200\n",
      "9/9 [==============================] - 0s 3ms/step - loss: 0.0302\n",
      "Epoch 173/200\n",
      "9/9 [==============================] - 0s 4ms/step - loss: 0.0379\n",
      "Epoch 174/200\n",
      "9/9 [==============================] - 0s 5ms/step - loss: 0.0308\n",
      "Epoch 175/200\n",
      "9/9 [==============================] - 0s 6ms/step - loss: 0.0313\n",
      "Epoch 176/200\n",
      "9/9 [==============================] - 0s 4ms/step - loss: 0.0293\n",
      "Epoch 177/200\n",
      "9/9 [==============================] - 0s 4ms/step - loss: 0.0309\n",
      "Epoch 178/200\n",
      "9/9 [==============================] - 0s 3ms/step - loss: 0.0295\n",
      "Epoch 179/200\n",
      "9/9 [==============================] - 0s 3ms/step - loss: 0.0292\n",
      "Epoch 180/200\n",
      "9/9 [==============================] - 0s 4ms/step - loss: 0.0267\n",
      "Epoch 181/200\n",
      "9/9 [==============================] - 0s 3ms/step - loss: 0.0282\n",
      "Epoch 182/200\n",
      "9/9 [==============================] - 0s 3ms/step - loss: 0.0329\n",
      "Epoch 183/200\n",
      "9/9 [==============================] - 0s 4ms/step - loss: 0.0281\n",
      "Epoch 184/200\n",
      "9/9 [==============================] - 0s 4ms/step - loss: 0.0290\n",
      "Epoch 185/200\n",
      "9/9 [==============================] - 0s 3ms/step - loss: 0.0274\n",
      "Epoch 186/200\n",
      "9/9 [==============================] - 0s 4ms/step - loss: 0.0294\n",
      "Epoch 187/200\n",
      "9/9 [==============================] - 0s 4ms/step - loss: 0.0289\n",
      "Epoch 188/200\n",
      "9/9 [==============================] - 0s 4ms/step - loss: 0.0291\n",
      "Epoch 189/200\n",
      "9/9 [==============================] - 0s 5ms/step - loss: 0.0276\n",
      "Epoch 190/200\n",
      "9/9 [==============================] - 0s 4ms/step - loss: 0.0268\n",
      "Epoch 191/200\n",
      "9/9 [==============================] - 0s 6ms/step - loss: 0.0356\n",
      "Epoch 192/200\n",
      "9/9 [==============================] - 0s 4ms/step - loss: 0.0315\n",
      "Epoch 193/200\n",
      "9/9 [==============================] - 0s 4ms/step - loss: 0.0302\n",
      "Epoch 194/200\n",
      "9/9 [==============================] - 0s 4ms/step - loss: 0.0291\n",
      "Epoch 195/200\n",
      "9/9 [==============================] - 0s 4ms/step - loss: 0.0276\n",
      "Epoch 196/200\n",
      "9/9 [==============================] - 0s 4ms/step - loss: 0.0246\n",
      "Epoch 197/200\n",
      "9/9 [==============================] - 0s 5ms/step - loss: 0.0281\n",
      "Epoch 198/200\n",
      "9/9 [==============================] - 0s 4ms/step - loss: 0.0277\n",
      "Epoch 199/200\n",
      "9/9 [==============================] - 0s 3ms/step - loss: 0.0266\n",
      "Epoch 200/200\n",
      "9/9 [==============================] - 0s 3ms/step - loss: 0.0259\n"
     ]
    }
   ],
   "source": [
    "history = model.fit(\n",
    "    X, y,\n",
    "    batch_size=128,\n",
    "    epochs=200,\n",
    ")"
   ]
  },
  {
   "cell_type": "code",
   "execution_count": 98,
   "metadata": {},
   "outputs": [],
   "source": [
    "import pandas as pd"
   ]
  },
  {
   "cell_type": "code",
   "execution_count": 99,
   "metadata": {},
   "outputs": [],
   "source": [
    "history_df = pd.DataFrame(history.history)"
   ]
  },
  {
   "cell_type": "code",
   "execution_count": 101,
   "metadata": {},
   "outputs": [
    {
     "data": {
      "text/plain": [
       "<AxesSubplot:>"
      ]
     },
     "execution_count": 101,
     "metadata": {},
     "output_type": "execute_result"
    },
    {
     "data": {
      "image/png": "[encoded data removed]",
      "text/plain": [
       "<Figure size 432x288 with 1 Axes>"
      ]
     },
     "metadata": {
      "needs_background": "light"
     },
     "output_type": "display_data"
    }
   ],
   "source": [
    "history_df.loss.plot()"
   ]
  },
  {
   "cell_type": "code",
   "execution_count": 104,
   "metadata": {},
   "outputs": [
    {
     "data": {
      "image/png": "[encoded data removed]",
      "text/plain": [
       "<Figure size 432x288 with 1 Axes>"
      ]
     },
     "metadata": {
      "needs_background": "light"
     },
     "output_type": "display_data"
    }
   ],
   "source": [
    "history_df.loc[5:, ['loss']].plot();"
   ]
  },
  {
   "cell_type": "markdown",
   "metadata": {},
   "source": [
    "# Overfitting and Underfitting\n"
   ]
  },
  {
   "cell_type": "code",
   "execution_count": 105,
   "metadata": {},
   "outputs": [],
   "source": [
    "from tensorflow.keras.callbacks import EarlyStopping"
   ]
  },
  {
   "cell_type": "code",
   "execution_count": 106,
   "metadata": {},
   "outputs": [],
   "source": [
    "early_stopping = EarlyStopping(\n",
    "    min_delta=0.001, # minimium amount of change to count as an improvement\n",
    "    patience=20, # how many epochs to wait before stopping\n",
    "    restore_best_weights=True,   \n",
    ")"
   ]
  },
  {
   "cell_type": "code",
   "execution_count": 108,
   "metadata": {},
   "outputs": [],
   "source": [
    "red_wine = pd.read_csv('data/red-wine.csv')"
   ]
  },
  {
   "cell_type": "code",
   "execution_count": 109,
   "metadata": {},
   "outputs": [],
   "source": [
    "X = red_wine.copy()"
   ]
  },
  {
   "cell_type": "code",
   "execution_count": 110,
   "metadata": {},
   "outputs": [],
   "source": [
    "y = X.pop('quality')"
   ]
  },
  {
   "cell_type": "code",
   "execution_count": 112,
   "metadata": {},
   "outputs": [],
   "source": [
    "X_train, X_test, y_train, y_test = train_test_split(X,y,test_size=0.33)"
   ]
  },
  {
   "cell_type": "code",
   "execution_count": 113,
   "metadata": {},
   "outputs": [],
   "source": [
    "X_train, X_val, y_train, y_val = train_test_split(X_train, y_train, test_size=0.2, random_state=42)"
   ]
  },
  {
   "cell_type": "code",
   "execution_count": 114,
   "metadata": {},
   "outputs": [],
   "source": [
    "from sklearn.preprocessing import StandardScaler"
   ]
  },
  {
   "cell_type": "code",
   "execution_count": 115,
   "metadata": {},
   "outputs": [],
   "source": [
    "scaler = StandardScaler()"
   ]
  },
  {
   "cell_type": "code",
   "execution_count": 116,
   "metadata": {},
   "outputs": [],
   "source": [
    "X_train = scaler.fit_transform(X_train)"
   ]
  },
  {
   "cell_type": "code",
   "execution_count": 117,
   "metadata": {},
   "outputs": [],
   "source": [
    "X_val = scaler.fit_transform(X_val)"
   ]
  },
  {
   "cell_type": "code",
   "execution_count": 118,
   "metadata": {},
   "outputs": [],
   "source": [
    "X_test = scaler.fit_transform(X_test)"
   ]
  },
  {
   "cell_type": "code",
   "execution_count": 125,
   "metadata": {},
   "outputs": [
    {
     "data": {
      "text/plain": [
       "(856, 11)"
      ]
     },
     "execution_count": 125,
     "metadata": {},
     "output_type": "execute_result"
    }
   ],
   "source": [
    "X_train.shape"
   ]
  },
  {
   "cell_type": "code",
   "execution_count": 119,
   "metadata": {},
   "outputs": [],
   "source": [
    "from tensorflow import keras\n",
    "from tensorflow.keras import layers, callbacks\n",
    "from tensorflow.keras.callbacks import EarlyStopping"
   ]
  },
  {
   "cell_type": "code",
   "execution_count": 124,
   "metadata": {},
   "outputs": [],
   "source": [
    "early_stopping = EarlyStopping(\n",
    "    min_delta= 0.001,\n",
    "    patience = 20,\n",
    "    restore_best_weights = True\n",
    ")"
   ]
  },
  {
   "cell_type": "code",
   "execution_count": 129,
   "metadata": {},
   "outputs": [],
   "source": [
    "model = keras.Sequential([\n",
    "    layers.Dense(units=512, activation='relu', input_shape=[11]),\n",
    "    layers.Dense(units=521, activation='relu'),\n",
    "    layers.Dense(units=512, activation='relu'),\n",
    "    layers.Dense(units=1)\n",
    "])"
   ]
  },
  {
   "cell_type": "code",
   "execution_count": 130,
   "metadata": {},
   "outputs": [],
   "source": [
    "model.compile(\n",
    "    optimizer = 'Adam',\n",
    "    loss='mae'\n",
    ")"
   ]
  },
  {
   "cell_type": "code",
   "execution_count": 148,
   "metadata": {},
   "outputs": [],
   "source": [
    "history = model.fit(\n",
    "    X_train, y_train,\n",
    "    validation_data=(X_val, y_val),\n",
    "    batch_size=256,\n",
    "    epochs=500,\n",
    "    callbacks=[early_stopping], # put your callbacks in a list\n",
    "    verbose=0,  # turn off training log\n",
    ")"
   ]
  },
  {
   "cell_type": "code",
   "execution_count": 147,
   "metadata": {
    "scrolled": false
   },
   "outputs": [
    {
     "data": {
      "text/html": [
       "<div>\n",
       "<style scoped>\n",
       "    .dataframe tbody tr th:only-of-type {\n",
       "        vertical-align: middle;\n",
       "    }\n",
       "\n",
       "    .dataframe tbody tr th {\n",
       "        vertical-align: top;\n",
       "    }\n",
       "\n",
       "    .dataframe thead th {\n",
       "        text-align: right;\n",
       "    }\n",
       "</style>\n",
       "<table border=\"1\" class=\"dataframe\">\n",
       "  <thead>\n",
       "    <tr style=\"text-align: right;\">\n",
       "      <th></th>\n",
       "      <th>loss</th>\n",
       "      <th>val_loss</th>\n",
       "    </tr>\n",
       "  </thead>\n",
       "  <tbody>\n",
       "    <tr>\n",
       "      <th>0</th>\n",
       "      <td>0.212863</td>\n",
       "      <td>0.821139</td>\n",
       "    </tr>\n",
       "    <tr>\n",
       "      <th>1</th>\n",
       "      <td>0.227354</td>\n",
       "      <td>0.852036</td>\n",
       "    </tr>\n",
       "    <tr>\n",
       "      <th>2</th>\n",
       "      <td>0.217053</td>\n",
       "      <td>0.835096</td>\n",
       "    </tr>\n",
       "    <tr>\n",
       "      <th>3</th>\n",
       "      <td>0.231786</td>\n",
       "      <td>0.847041</td>\n",
       "    </tr>\n",
       "    <tr>\n",
       "      <th>4</th>\n",
       "      <td>0.233101</td>\n",
       "      <td>0.846585</td>\n",
       "    </tr>\n",
       "    <tr>\n",
       "      <th>5</th>\n",
       "      <td>0.211130</td>\n",
       "      <td>0.840091</td>\n",
       "    </tr>\n",
       "    <tr>\n",
       "      <th>6</th>\n",
       "      <td>0.206726</td>\n",
       "      <td>0.861499</td>\n",
       "    </tr>\n",
       "    <tr>\n",
       "      <th>7</th>\n",
       "      <td>0.193206</td>\n",
       "      <td>0.830541</td>\n",
       "    </tr>\n",
       "    <tr>\n",
       "      <th>8</th>\n",
       "      <td>0.197981</td>\n",
       "      <td>0.852379</td>\n",
       "    </tr>\n",
       "    <tr>\n",
       "      <th>9</th>\n",
       "      <td>0.205583</td>\n",
       "      <td>0.845755</td>\n",
       "    </tr>\n",
       "    <tr>\n",
       "      <th>10</th>\n",
       "      <td>0.191340</td>\n",
       "      <td>0.845858</td>\n",
       "    </tr>\n",
       "    <tr>\n",
       "      <th>11</th>\n",
       "      <td>0.213338</td>\n",
       "      <td>0.877213</td>\n",
       "    </tr>\n",
       "    <tr>\n",
       "      <th>12</th>\n",
       "      <td>0.239819</td>\n",
       "      <td>0.838621</td>\n",
       "    </tr>\n",
       "    <tr>\n",
       "      <th>13</th>\n",
       "      <td>0.272200</td>\n",
       "      <td>0.897658</td>\n",
       "    </tr>\n",
       "    <tr>\n",
       "      <th>14</th>\n",
       "      <td>0.261754</td>\n",
       "      <td>0.849721</td>\n",
       "    </tr>\n",
       "    <tr>\n",
       "      <th>15</th>\n",
       "      <td>0.235580</td>\n",
       "      <td>0.897972</td>\n",
       "    </tr>\n",
       "    <tr>\n",
       "      <th>16</th>\n",
       "      <td>0.237137</td>\n",
       "      <td>0.852494</td>\n",
       "    </tr>\n",
       "    <tr>\n",
       "      <th>17</th>\n",
       "      <td>0.232600</td>\n",
       "      <td>0.894268</td>\n",
       "    </tr>\n",
       "    <tr>\n",
       "      <th>18</th>\n",
       "      <td>0.251941</td>\n",
       "      <td>0.828352</td>\n",
       "    </tr>\n",
       "    <tr>\n",
       "      <th>19</th>\n",
       "      <td>0.202605</td>\n",
       "      <td>0.881160</td>\n",
       "    </tr>\n",
       "    <tr>\n",
       "      <th>20</th>\n",
       "      <td>0.190280</td>\n",
       "      <td>0.836960</td>\n",
       "    </tr>\n",
       "  </tbody>\n",
       "</table>\n",
       "</div>"
      ],
      "text/plain": [
       "        loss  val_loss\n",
       "0   0.212863  0.821139\n",
       "1   0.227354  0.852036\n",
       "2   0.217053  0.835096\n",
       "3   0.231786  0.847041\n",
       "4   0.233101  0.846585\n",
       "5   0.211130  0.840091\n",
       "6   0.206726  0.861499\n",
       "7   0.193206  0.830541\n",
       "8   0.197981  0.852379\n",
       "9   0.205583  0.845755\n",
       "10  0.191340  0.845858\n",
       "11  0.213338  0.877213\n",
       "12  0.239819  0.838621\n",
       "13  0.272200  0.897658\n",
       "14  0.261754  0.849721\n",
       "15  0.235580  0.897972\n",
       "16  0.237137  0.852494\n",
       "17  0.232600  0.894268\n",
       "18  0.251941  0.828352\n",
       "19  0.202605  0.881160\n",
       "20  0.190280  0.836960"
      ]
     },
     "execution_count": 147,
     "metadata": {},
     "output_type": "execute_result"
    }
   ],
   "source": [
    "history_df = pd.DataFrame(history.history)\n",
    "history_df"
   ]
  },
  {
   "cell_type": "code",
   "execution_count": 144,
   "metadata": {},
   "outputs": [
    {
     "name": "stdout",
     "output_type": "stream",
     "text": [
      "Minimum validation loss: 0.5157091617584229\n"
     ]
    },
    {
     "data": {
      "image/png": "[encoded data removed]",
      "text/plain": [
       "<Figure size 432x288 with 1 Axes>"
      ]
     },
     "metadata": {
      "needs_background": "light"
     },
     "output_type": "display_data"
    }
   ],
   "source": [
    "history_df.loc[:, ['loss', 'val_loss']].plot();\n",
    "print(\"Minimum validation loss: {}\".format(history_df['val_loss'].min()))"
   ]
  },
  {
   "cell_type": "markdown",
   "metadata": {},
   "source": [
    "## Exercise: Overfitting and Underfitting"
   ]
  },
  {
   "cell_type": "code",
   "execution_count": 149,
   "metadata": {},
   "outputs": [],
   "source": [
    "import pandas as pd\n",
    "from sklearn.preprocessing import StandardScaler, OneHotEncoder\n",
    "from sklearn.pipeline import Pipeline\n",
    "from sklearn.compose import make_column_transformer\n",
    "from sklearn.model_selection import GroupShuffleSplit, train_test_split"
   ]
  },
  {
   "cell_type": "code",
   "execution_count": 150,
   "metadata": {},
   "outputs": [],
   "source": [
    "from tensorflow import keras\n",
    "from tensorflow.keras import layers, callbacks"
   ]
  },
  {
   "cell_type": "code",
   "execution_count": 151,
   "metadata": {},
   "outputs": [],
   "source": [
    "spotify = pd.read_csv('data/spotify.csv')"
   ]
  },
  {
   "cell_type": "code",
   "execution_count": 152,
   "metadata": {},
   "outputs": [
    {
     "data": {
      "text/html": [
       "<div>\n",
       "<style scoped>\n",
       "    .dataframe tbody tr th:only-of-type {\n",
       "        vertical-align: middle;\n",
       "    }\n",
       "\n",
       "    .dataframe tbody tr th {\n",
       "        vertical-align: top;\n",
       "    }\n",
       "\n",
       "    .dataframe thead th {\n",
       "        text-align: right;\n",
       "    }\n",
       "</style>\n",
       "<table border=\"1\" class=\"dataframe\">\n",
       "  <thead>\n",
       "    <tr style=\"text-align: right;\">\n",
       "      <th></th>\n",
       "      <th>track_id</th>\n",
       "      <th>track_name</th>\n",
       "      <th>track_artist</th>\n",
       "      <th>track_popularity</th>\n",
       "      <th>track_album_id</th>\n",
       "      <th>track_album_name</th>\n",
       "      <th>track_album_release_date</th>\n",
       "      <th>playlist_name</th>\n",
       "      <th>playlist_id</th>\n",
       "      <th>playlist_genre</th>\n",
       "      <th>...</th>\n",
       "      <th>key</th>\n",
       "      <th>loudness</th>\n",
       "      <th>mode</th>\n",
       "      <th>speechiness</th>\n",
       "      <th>acousticness</th>\n",
       "      <th>instrumentalness</th>\n",
       "      <th>liveness</th>\n",
       "      <th>valence</th>\n",
       "      <th>tempo</th>\n",
       "      <th>duration_ms</th>\n",
       "    </tr>\n",
       "  </thead>\n",
       "  <tbody>\n",
       "    <tr>\n",
       "      <th>0</th>\n",
       "      <td>6f807x0ima9a1j3VPbc7VN</td>\n",
       "      <td>I Don't Care (with Justin Bieber) - Loud Luxur...</td>\n",
       "      <td>Ed Sheeran</td>\n",
       "      <td>66</td>\n",
       "      <td>2oCs0DGTsRO98Gh5ZSl2Cx</td>\n",
       "      <td>I Don't Care (with Justin Bieber) [Loud Luxury...</td>\n",
       "      <td>2019-06-14</td>\n",
       "      <td>Pop Remix</td>\n",
       "      <td>37i9dQZF1DXcZDD7cfEKhW</td>\n",
       "      <td>pop</td>\n",
       "      <td>...</td>\n",
       "      <td>6</td>\n",
       "      <td>-2.634</td>\n",
       "      <td>1</td>\n",
       "      <td>0.0583</td>\n",
       "      <td>0.1020</td>\n",
       "      <td>0.000000</td>\n",
       "      <td>0.0653</td>\n",
       "      <td>0.518</td>\n",
       "      <td>122.036</td>\n",
       "      <td>194754</td>\n",
       "    </tr>\n",
       "    <tr>\n",
       "      <th>1</th>\n",
       "      <td>0r7CVbZTWZgbTCYdfa2P31</td>\n",
       "      <td>Memories - Dillon Francis Remix</td>\n",
       "      <td>Maroon 5</td>\n",
       "      <td>67</td>\n",
       "      <td>63rPSO264uRjW1X5E6cWv6</td>\n",
       "      <td>Memories (Dillon Francis Remix)</td>\n",
       "      <td>2019-12-13</td>\n",
       "      <td>Pop Remix</td>\n",
       "      <td>37i9dQZF1DXcZDD7cfEKhW</td>\n",
       "      <td>pop</td>\n",
       "      <td>...</td>\n",
       "      <td>11</td>\n",
       "      <td>-4.969</td>\n",
       "      <td>1</td>\n",
       "      <td>0.0373</td>\n",
       "      <td>0.0724</td>\n",
       "      <td>0.004210</td>\n",
       "      <td>0.3570</td>\n",
       "      <td>0.693</td>\n",
       "      <td>99.972</td>\n",
       "      <td>162600</td>\n",
       "    </tr>\n",
       "    <tr>\n",
       "      <th>2</th>\n",
       "      <td>1z1Hg7Vb0AhHDiEmnDE79l</td>\n",
       "      <td>All the Time - Don Diablo Remix</td>\n",
       "      <td>Zara Larsson</td>\n",
       "      <td>70</td>\n",
       "      <td>1HoSmj2eLcsrR0vE9gThr4</td>\n",
       "      <td>All the Time (Don Diablo Remix)</td>\n",
       "      <td>2019-07-05</td>\n",
       "      <td>Pop Remix</td>\n",
       "      <td>37i9dQZF1DXcZDD7cfEKhW</td>\n",
       "      <td>pop</td>\n",
       "      <td>...</td>\n",
       "      <td>1</td>\n",
       "      <td>-3.432</td>\n",
       "      <td>0</td>\n",
       "      <td>0.0742</td>\n",
       "      <td>0.0794</td>\n",
       "      <td>0.000023</td>\n",
       "      <td>0.1100</td>\n",
       "      <td>0.613</td>\n",
       "      <td>124.008</td>\n",
       "      <td>176616</td>\n",
       "    </tr>\n",
       "    <tr>\n",
       "      <th>3</th>\n",
       "      <td>75FpbthrwQmzHlBJLuGdC7</td>\n",
       "      <td>Call You Mine - Keanu Silva Remix</td>\n",
       "      <td>The Chainsmokers</td>\n",
       "      <td>60</td>\n",
       "      <td>1nqYsOef1yKKuGOVchbsk6</td>\n",
       "      <td>Call You Mine - The Remixes</td>\n",
       "      <td>2019-07-19</td>\n",
       "      <td>Pop Remix</td>\n",
       "      <td>37i9dQZF1DXcZDD7cfEKhW</td>\n",
       "      <td>pop</td>\n",
       "      <td>...</td>\n",
       "      <td>7</td>\n",
       "      <td>-3.778</td>\n",
       "      <td>1</td>\n",
       "      <td>0.1020</td>\n",
       "      <td>0.0287</td>\n",
       "      <td>0.000009</td>\n",
       "      <td>0.2040</td>\n",
       "      <td>0.277</td>\n",
       "      <td>121.956</td>\n",
       "      <td>169093</td>\n",
       "    </tr>\n",
       "    <tr>\n",
       "      <th>4</th>\n",
       "      <td>1e8PAfcKUYoKkxPhrHqw4x</td>\n",
       "      <td>Someone You Loved - Future Humans Remix</td>\n",
       "      <td>Lewis Capaldi</td>\n",
       "      <td>69</td>\n",
       "      <td>7m7vv9wlQ4i0LFuJiE2zsQ</td>\n",
       "      <td>Someone You Loved (Future Humans Remix)</td>\n",
       "      <td>2019-03-05</td>\n",
       "      <td>Pop Remix</td>\n",
       "      <td>37i9dQZF1DXcZDD7cfEKhW</td>\n",
       "      <td>pop</td>\n",
       "      <td>...</td>\n",
       "      <td>1</td>\n",
       "      <td>-4.672</td>\n",
       "      <td>1</td>\n",
       "      <td>0.0359</td>\n",
       "      <td>0.0803</td>\n",
       "      <td>0.000000</td>\n",
       "      <td>0.0833</td>\n",
       "      <td>0.725</td>\n",
       "      <td>123.976</td>\n",
       "      <td>189052</td>\n",
       "    </tr>\n",
       "  </tbody>\n",
       "</table>\n",
       "<p>5 rows × 23 columns</p>\n",
       "</div>"
      ],
      "text/plain": [
       "                 track_id                                         track_name  \\\n",
       "0  6f807x0ima9a1j3VPbc7VN  I Don't Care (with Justin Bieber) - Loud Luxur...   \n",
       "1  0r7CVbZTWZgbTCYdfa2P31                    Memories - Dillon Francis Remix   \n",
       "2  1z1Hg7Vb0AhHDiEmnDE79l                    All the Time - Don Diablo Remix   \n",
       "3  75FpbthrwQmzHlBJLuGdC7                  Call You Mine - Keanu Silva Remix   \n",
       "4  1e8PAfcKUYoKkxPhrHqw4x            Someone You Loved - Future Humans Remix   \n",
       "\n",
       "       track_artist  track_popularity          track_album_id  \\\n",
       "0        Ed Sheeran                66  2oCs0DGTsRO98Gh5ZSl2Cx   \n",
       "1          Maroon 5                67  63rPSO264uRjW1X5E6cWv6   \n",
       "2      Zara Larsson                70  1HoSmj2eLcsrR0vE9gThr4   \n",
       "3  The Chainsmokers                60  1nqYsOef1yKKuGOVchbsk6   \n",
       "4     Lewis Capaldi                69  7m7vv9wlQ4i0LFuJiE2zsQ   \n",
       "\n",
       "                                    track_album_name track_album_release_date  \\\n",
       "0  I Don't Care (with Justin Bieber) [Loud Luxury...               2019-06-14   \n",
       "1                    Memories (Dillon Francis Remix)               2019-12-13   \n",
       "2                    All the Time (Don Diablo Remix)               2019-07-05   \n",
       "3                        Call You Mine - The Remixes               2019-07-19   \n",
       "4            Someone You Loved (Future Humans Remix)               2019-03-05   \n",
       "\n",
       "  playlist_name             playlist_id playlist_genre  ... key  loudness  \\\n",
       "0     Pop Remix  37i9dQZF1DXcZDD7cfEKhW            pop  ...   6    -2.634   \n",
       "1     Pop Remix  37i9dQZF1DXcZDD7cfEKhW            pop  ...  11    -4.969   \n",
       "2     Pop Remix  37i9dQZF1DXcZDD7cfEKhW            pop  ...   1    -3.432   \n",
       "3     Pop Remix  37i9dQZF1DXcZDD7cfEKhW            pop  ...   7    -3.778   \n",
       "4     Pop Remix  37i9dQZF1DXcZDD7cfEKhW            pop  ...   1    -4.672   \n",
       "\n",
       "   mode  speechiness  acousticness  instrumentalness  liveness  valence  \\\n",
       "0     1       0.0583        0.1020          0.000000    0.0653    0.518   \n",
       "1     1       0.0373        0.0724          0.004210    0.3570    0.693   \n",
       "2     0       0.0742        0.0794          0.000023    0.1100    0.613   \n",
       "3     1       0.1020        0.0287          0.000009    0.2040    0.277   \n",
       "4     1       0.0359        0.0803          0.000000    0.0833    0.725   \n",
       "\n",
       "     tempo  duration_ms  \n",
       "0  122.036       194754  \n",
       "1   99.972       162600  \n",
       "2  124.008       176616  \n",
       "3  121.956       169093  \n",
       "4  123.976       189052  \n",
       "\n",
       "[5 rows x 23 columns]"
      ]
     },
     "execution_count": 152,
     "metadata": {},
     "output_type": "execute_result"
    }
   ],
   "source": [
    "spotify.head()"
   ]
  },
  {
   "cell_type": "code",
   "execution_count": 157,
   "metadata": {},
   "outputs": [
    {
     "data": {
      "text/plain": [
       "track_artist        5\n",
       "track_album_name    5\n",
       "track_name          5\n",
       "track_id            0\n",
       "key                 0\n",
       "dtype: int64"
      ]
     },
     "execution_count": 157,
     "metadata": {},
     "output_type": "execute_result"
    }
   ],
   "source": [
    "spotify.isnull().sum().sort_values(ascending = False)[:5]"
   ]
  },
  {
   "cell_type": "code",
   "execution_count": 159,
   "metadata": {},
   "outputs": [],
   "source": [
    "X = spotify.copy().dropna()"
   ]
  },
  {
   "cell_type": "code",
   "execution_count": 160,
   "metadata": {},
   "outputs": [],
   "source": [
    "y = X.pop('track_popularity')"
   ]
  },
  {
   "cell_type": "code",
   "execution_count": 161,
   "metadata": {},
   "outputs": [],
   "source": [
    "artists = X['track_artist']"
   ]
  },
  {
   "cell_type": "code",
   "execution_count": 162,
   "metadata": {},
   "outputs": [],
   "source": [
    "cat_cols = X.select_dtypes('object')"
   ]
  },
  {
   "cell_type": "code",
   "execution_count": 164,
   "metadata": {},
   "outputs": [
    {
     "data": {
      "text/plain": [
       "Index(['track_id', 'track_name', 'track_artist', 'track_album_id',\n",
       "       'track_album_name', 'track_album_release_date', 'playlist_name',\n",
       "       'playlist_id', 'playlist_genre', 'playlist_subgenre'],\n",
       "      dtype='object')"
      ]
     },
     "execution_count": 164,
     "metadata": {},
     "output_type": "execute_result"
    }
   ],
   "source": [
    "cat_cols.columns"
   ]
  },
  {
   "cell_type": "code",
   "execution_count": 165,
   "metadata": {},
   "outputs": [],
   "source": [
    "num_cols = X.select_dtypes(include=['int64','float64'])"
   ]
  },
  {
   "cell_type": "code",
   "execution_count": 166,
   "metadata": {},
   "outputs": [
    {
     "data": {
      "text/plain": [
       "Index(['danceability', 'energy', 'key', 'loudness', 'mode', 'speechiness',\n",
       "       'acousticness', 'instrumentalness', 'liveness', 'valence', 'tempo',\n",
       "       'duration_ms'],\n",
       "      dtype='object')"
      ]
     },
     "execution_count": 166,
     "metadata": {},
     "output_type": "execute_result"
    }
   ],
   "source": [
    "num_cols.columns"
   ]
  },
  {
   "cell_type": "code",
   "execution_count": 167,
   "metadata": {},
   "outputs": [],
   "source": [
    "features_cat = ['playlist_genre']"
   ]
  },
  {
   "cell_type": "code",
   "execution_count": 168,
   "metadata": {},
   "outputs": [],
   "source": [
    "features_num = ['danceability', 'energy', 'key', 'loudness', 'mode',\n",
    "                'speechiness', 'acousticness', 'instrumentalness',\n",
    "                'liveness', 'valence', 'tempo', 'duration_ms']"
   ]
  },
  {
   "cell_type": "code",
   "execution_count": 169,
   "metadata": {},
   "outputs": [],
   "source": [
    "preprocess = make_column_transformer(\n",
    "    (StandardScaler(),features_num),\n",
    "    (OneHotEncoder(), features_cat)\n",
    ")"
   ]
  },
  {
   "cell_type": "code",
   "execution_count": 170,
   "metadata": {},
   "outputs": [],
   "source": [
    "def group_split(X, y, group, train_size=0.75):\n",
    "    splitter = GroupShuffleSplit(train_size=train_size)\n",
    "    train, test = next(splitter.split(X, y, groups=group))\n",
    "    return (X.iloc[train], X.iloc[test], y.iloc[train], y.iloc[test])"
   ]
  },
  {
   "cell_type": "code",
   "execution_count": 171,
   "metadata": {},
   "outputs": [],
   "source": [
    "X_train, X_valid, y_train, y_valid = group_split(X, y, artists)"
   ]
  },
  {
   "cell_type": "code",
   "execution_count": 173,
   "metadata": {},
   "outputs": [],
   "source": [
    "X_train = preprocess.fit_transform(X_train)\n",
    "X_valid = preprocess.transform(X_valid)\n",
    "y_train = y_train / 100 # popularity is on a scale 0-100, so this rescales to 0-1.\n",
    "y_valid = y_valid / 100"
   ]
  },
  {
   "cell_type": "code",
   "execution_count": 174,
   "metadata": {},
   "outputs": [
    {
     "data": {
      "text/plain": [
       "(24639, 18)"
      ]
     },
     "execution_count": 174,
     "metadata": {},
     "output_type": "execute_result"
    }
   ],
   "source": [
    "X_train.shape"
   ]
  },
  {
   "cell_type": "code",
   "execution_count": 175,
   "metadata": {},
   "outputs": [],
   "source": [
    "model = keras.Sequential([\n",
    "    layers.Dense(units= 1, input_shape=[18])\n",
    "])"
   ]
  },
  {
   "cell_type": "code",
   "execution_count": 177,
   "metadata": {},
   "outputs": [],
   "source": [
    "model.compile(\n",
    "    optimizer = 'adam',\n",
    "    loss = 'mae'\n",
    ")"
   ]
  },
  {
   "cell_type": "code",
   "execution_count": 178,
   "metadata": {},
   "outputs": [],
   "source": [
    "history = model.fit(\n",
    "    X_train,y_train,\n",
    "    validation_data=(X_valid, y_valid),\n",
    "    batch_size= 512,\n",
    "    epochs= 50,\n",
    "    verbose=0,\n",
    ")"
   ]
  },
  {
   "cell_type": "code",
   "execution_count": 179,
   "metadata": {},
   "outputs": [
    {
     "data": {
      "text/plain": [
       "<AxesSubplot:>"
      ]
     },
     "execution_count": 179,
     "metadata": {},
     "output_type": "execute_result"
    },
    {
     "data": {
      "image/png": "[encoded data removed]",
      "text/plain": [
       "<Figure size 432x288 with 1 Axes>"
      ]
     },
     "metadata": {
      "needs_background": "light"
     },
     "output_type": "display_data"
    }
   ],
   "source": [
    "history_df = pd.DataFrame(history.history)\n",
    "history_df.loc[0:, ['loss', 'val_loss']].plot()"
   ]
  },
  {
   "cell_type": "code",
   "execution_count": 180,
   "metadata": {},
   "outputs": [
    {
     "data": {
      "text/plain": [
       "<AxesSubplot:>"
      ]
     },
     "execution_count": 180,
     "metadata": {},
     "output_type": "execute_result"
    },
    {
     "data": {
      "image/png": "[encoded data removed]",
      "text/plain": [
       "<Figure size 432x288 with 1 Axes>"
      ]
     },
     "metadata": {
      "needs_background": "light"
     },
     "output_type": "display_data"
    }
   ],
   "source": [
    "history_df.loc[10:, ['loss', 'val_loss']].plot()"
   ]
  },
  {
   "cell_type": "code",
   "execution_count": 182,
   "metadata": {},
   "outputs": [],
   "source": [
    "model = keras.Sequential([\n",
    "    layers.Dense(128, activation='relu', input_shape=[18]),\n",
    "    layers.Dense(64, activation='relu'),\n",
    "    layers.Dense(1)\n",
    "])"
   ]
  },
  {
   "cell_type": "code",
   "execution_count": 183,
   "metadata": {},
   "outputs": [],
   "source": [
    "model.compile(\n",
    "    optimizer = 'adam',\n",
    "    loss = 'mae'\n",
    ")"
   ]
  },
  {
   "cell_type": "code",
   "execution_count": 184,
   "metadata": {},
   "outputs": [],
   "source": [
    "history = model.fit(\n",
    "    X_train,y_train,\n",
    "    validation_data=(X_valid, y_valid),\n",
    "    batch_size= 512,\n",
    "    epochs= 50,\n",
    "    verbose=0,\n",
    ")"
   ]
  },
  {
   "cell_type": "code",
   "execution_count": 185,
   "metadata": {},
   "outputs": [
    {
     "data": {
      "text/plain": [
       "<AxesSubplot:>"
      ]
     },
     "execution_count": 185,
     "metadata": {},
     "output_type": "execute_result"
    },
    {
     "data": {
      "image/png": "[encoded data removed]",
      "text/plain": [
       "<Figure size 432x288 with 1 Axes>"
      ]
     },
     "metadata": {
      "needs_background": "light"
     },
     "output_type": "display_data"
    }
   ],
   "source": [
    "history_df = pd.DataFrame(history.history)\n",
    "history_df.loc[:, ['loss', 'val_loss']].plot()"
   ]
  },
  {
   "cell_type": "code",
   "execution_count": 189,
   "metadata": {},
   "outputs": [],
   "source": [
    "early_stopping = EarlyStopping(\n",
    "    min_delta=0.001, # minimium amount of change to count as an improvement\n",
    "    patience=5, # how many epochs to wait before stopping\n",
    "    restore_best_weights=True,   \n",
    ")"
   ]
  },
  {
   "cell_type": "code",
   "execution_count": 190,
   "metadata": {},
   "outputs": [],
   "source": [
    "history = model.fit(\n",
    "    X_train,y_train,\n",
    "    validation_data=(X_valid, y_valid),\n",
    "    batch_size= 512,\n",
    "    epochs= 50,\n",
    "    verbose=0,\n",
    "    callbacks=[early_stopping],\n",
    ")"
   ]
  },
  {
   "cell_type": "code",
   "execution_count": 191,
   "metadata": {},
   "outputs": [
    {
     "data": {
      "text/plain": [
       "<AxesSubplot:>"
      ]
     },
     "execution_count": 191,
     "metadata": {},
     "output_type": "execute_result"
    },
    {
     "data": {
      "image/png": "[encoded data removed]",
      "text/plain": [
       "<Figure size 432x288 with 1 Axes>"
      ]
     },
     "metadata": {
      "needs_background": "light"
     },
     "output_type": "display_data"
    }
   ],
   "source": [
    "history_df = pd.DataFrame(history.history)\n",
    "history_df.loc[:, ['loss', 'val_loss']].plot()"
   ]
  },
  {
   "cell_type": "code",
   "execution_count": 196,
   "metadata": {},
   "outputs": [
    {
     "name": "stdout",
     "output_type": "stream",
     "text": [
      "Epoch 1/50\n",
      "49/49 [==============================] - 1s 6ms/step - loss: 0.2635 - val_loss: 0.2134\n",
      "Epoch 2/50\n",
      "49/49 [==============================] - 0s 6ms/step - loss: 0.2018 - val_loss: 0.2077\n",
      "Epoch 3/50\n",
      "49/49 [==============================] - 0s 5ms/step - loss: 0.1963 - val_loss: 0.2043\n",
      "Epoch 4/50\n",
      "49/49 [==============================] - 0s 5ms/step - loss: 0.1928 - val_loss: 0.2042\n",
      "Epoch 5/50\n",
      "49/49 [==============================] - 0s 6ms/step - loss: 0.1912 - val_loss: 0.2038\n",
      "Epoch 6/50\n",
      "49/49 [==============================] - 0s 4ms/step - loss: 0.1895 - val_loss: 0.2027\n",
      "Epoch 7/50\n",
      "49/49 [==============================] - 0s 4ms/step - loss: 0.1878 - val_loss: 0.2024\n",
      "Epoch 8/50\n",
      "49/49 [==============================] - 0s 4ms/step - loss: 0.1868 - val_loss: 0.2022\n",
      "Epoch 9/50\n",
      "49/49 [==============================] - 0s 5ms/step - loss: 0.1858 - val_loss: 0.2034\n",
      "Epoch 10/50\n",
      "49/49 [==============================] - 0s 4ms/step - loss: 0.1851 - val_loss: 0.2026\n",
      "Epoch 11/50\n",
      "49/49 [==============================] - 0s 4ms/step - loss: 0.1837 - val_loss: 0.2019\n"
     ]
    },
    {
     "data": {
      "text/plain": [
       "<AxesSubplot:>"
      ]
     },
     "execution_count": 196,
     "metadata": {},
     "output_type": "execute_result"
    },
    {
     "data": {
      "image/png": "[encoded data removed]",
      "text/plain": [
       "<Figure size 432x288 with 1 Axes>"
      ]
     },
     "metadata": {
      "needs_background": "light"
     },
     "output_type": "display_data"
    }
   ],
   "source": [
    "model = keras.Sequential([\n",
    "    layers.Dense(128, activation='relu', input_shape=[18]),\n",
    "    layers.Dense(64, activation='relu'),    \n",
    "    layers.Dense(1)\n",
    "])\n",
    "model.compile(\n",
    "    optimizer='adam',\n",
    "    loss='mae',\n",
    ")\n",
    "history = model.fit(\n",
    "    X_train, y_train,\n",
    "    validation_data=(X_valid, y_valid),\n",
    "    batch_size=512,\n",
    "    epochs=50,\n",
    "    callbacks=[early_stopping]\n",
    ")\n",
    "history_df = pd.DataFrame(history.history)\n",
    "history_df.loc[:, ['loss', 'val_loss']].plot()"
   ]
  },
  {
   "cell_type": "markdown",
   "metadata": {},
   "source": [
    "# Dropout and Batch Normalization"
   ]
  },
  {
   "cell_type": "code",
   "execution_count": 204,
   "metadata": {},
   "outputs": [],
   "source": [
    "red_wine = pd.read_csv('data/red-wine.csv')"
   ]
  },
  {
   "cell_type": "code",
   "execution_count": 205,
   "metadata": {},
   "outputs": [],
   "source": [
    "X = red_wine.copy()\n",
    "y = X.pop('quality')"
   ]
  },
  {
   "cell_type": "code",
   "execution_count": 206,
   "metadata": {},
   "outputs": [],
   "source": [
    "X_train, X_valid, y_train, y_valid = train_test_split(X,y, test_size=0.33)"
   ]
  },
  {
   "cell_type": "code",
   "execution_count": 207,
   "metadata": {},
   "outputs": [],
   "source": [
    "from tensorflow import keras\n",
    "from tensorflow.keras import layers"
   ]
  },
  {
   "cell_type": "code",
   "execution_count": 208,
   "metadata": {},
   "outputs": [],
   "source": [
    "model = keras.Sequential([\n",
    "    layers.Dense(1024, activation='relu', input_shape=[11]),\n",
    "    layers.Dropout(0.3),\n",
    "    layers.BatchNormalization(),\n",
    "    layers.Dense(1024, activation='relu'),\n",
    "    layers.Dropout(0.3),\n",
    "    layers.BatchNormalization(),\n",
    "    layers.Dense(1024, activation='relu'),\n",
    "    layers.Dropout(0.3),\n",
    "    layers.BatchNormalization(),\n",
    "    layers.Dense(1),\n",
    "])"
   ]
  },
  {
   "cell_type": "code",
   "execution_count": 209,
   "metadata": {},
   "outputs": [],
   "source": [
    "model.compile(\n",
    "    optimizer='adam',\n",
    "    loss='mae',\n",
    ")\n",
    "\n",
    "history = model.fit(\n",
    "    X_train, y_train,\n",
    "    validation_data=(X_valid, y_valid),\n",
    "    batch_size=256,\n",
    "    epochs=100,\n",
    "    verbose=0,\n",
    ")"
   ]
  },
  {
   "cell_type": "code",
   "execution_count": 210,
   "metadata": {},
   "outputs": [],
   "source": [
    "history_df = pd.DataFrame(history.history)"
   ]
  },
  {
   "cell_type": "code",
   "execution_count": 211,
   "metadata": {},
   "outputs": [
    {
     "data": {
      "text/plain": [
       "<AxesSubplot:>"
      ]
     },
     "execution_count": 211,
     "metadata": {},
     "output_type": "execute_result"
    },
    {
     "data": {
      "image/png": "[encoded data removed]",
      "text/plain": [
       "<Figure size 432x288 with 1 Axes>"
      ]
     },
     "metadata": {
      "needs_background": "light"
     },
     "output_type": "display_data"
    }
   ],
   "source": [
    "history_df.loc[:, ['loss', 'val_loss']].plot()"
   ]
  },
  {
   "cell_type": "markdown",
   "metadata": {},
   "source": [
    "## Exercise: Dropout and Batch Normalization"
   ]
  },
  {
   "cell_type": "code",
   "execution_count": 212,
   "metadata": {},
   "outputs": [],
   "source": [
    "import pandas as pd\n",
    "from sklearn.preprocessing import StandardScaler, OneHotEncoder\n",
    "from sklearn.compose import make_column_transformer\n",
    "from sklearn.model_selection import GroupShuffleSplit"
   ]
  },
  {
   "cell_type": "code",
   "execution_count": 213,
   "metadata": {},
   "outputs": [],
   "source": [
    "from tensorflow import keras\n",
    "from tensorflow.keras import layers, callbacks"
   ]
  },
  {
   "cell_type": "code",
   "execution_count": 214,
   "metadata": {},
   "outputs": [],
   "source": [
    "spotify = pd.read_csv('data/spotify.csv')"
   ]
  },
  {
   "cell_type": "code",
   "execution_count": 215,
   "metadata": {},
   "outputs": [],
   "source": [
    "X = spotify.copy().dropna()\n",
    "y = X.pop('track_popularity')\n",
    "artists = X['track_artist']"
   ]
  },
  {
   "cell_type": "code",
   "execution_count": 216,
   "metadata": {},
   "outputs": [],
   "source": [
    "features_num = ['danceability', 'energy', 'key', 'loudness', 'mode',\n",
    "                'speechiness', 'acousticness', 'instrumentalness',\n",
    "                'liveness', 'valence', 'tempo', 'duration_ms']\n",
    "features_cat = ['playlist_genre']"
   ]
  },
  {
   "cell_type": "code",
   "execution_count": 217,
   "metadata": {},
   "outputs": [],
   "source": [
    "preprocessor = make_column_transformer(\n",
    "    (StandardScaler(), features_num),\n",
    "    (OneHotEncoder(), features_cat)\n",
    ")"
   ]
  },
  {
   "cell_type": "code",
   "execution_count": 218,
   "metadata": {},
   "outputs": [],
   "source": [
    "def group_split(X,y, group, train_size=0.75):\n",
    "    splitter = GroupShuffleSplit(train_size= train_size)\n",
    "    train, test = next(splitter.split(X, y, groups=group))\n",
    "    return (X.iloc[train], X.iloc[test], y.iloc[train], y.iloc[test])"
   ]
  },
  {
   "cell_type": "code",
   "execution_count": 219,
   "metadata": {},
   "outputs": [],
   "source": [
    "X_train, X_valid, y_train, y_valid = group_split(X, y, artists)"
   ]
  },
  {
   "cell_type": "code",
   "execution_count": 220,
   "metadata": {},
   "outputs": [],
   "source": [
    "X_train = preprocessor.fit_transform(X_train)\n",
    "X_valid = preprocessor.transform(X_valid)"
   ]
  },
  {
   "cell_type": "code",
   "execution_count": 221,
   "metadata": {},
   "outputs": [],
   "source": [
    "y_train = y_train / 100\n",
    "y_valid = y_valid / 100"
   ]
  },
  {
   "cell_type": "code",
   "execution_count": 223,
   "metadata": {},
   "outputs": [],
   "source": [
    "model = keras.Sequential([\n",
    "    layers.Dense(128, activation='relu', input_shape=[18]),\n",
    "    layers.Dropout(rate=0.3),\n",
    "    layers.Dense(64, activation='relu'),\n",
    "    layers.Dropout(rate=0.3),\n",
    "    layers.Dense(1)\n",
    "])"
   ]
  },
  {
   "cell_type": "code",
   "execution_count": 224,
   "metadata": {},
   "outputs": [
    {
     "data": {
      "text/plain": [
       "<AxesSubplot:>"
      ]
     },
     "execution_count": 224,
     "metadata": {},
     "output_type": "execute_result"
    },
    {
     "data": {
      "image/png": "[encoded data removed]",
      "text/plain": [
       "<Figure size 432x288 with 1 Axes>"
      ]
     },
     "metadata": {
      "needs_background": "light"
     },
     "output_type": "display_data"
    }
   ],
   "source": [
    "model.compile(\n",
    "    optimizer = 'adam',\n",
    "    loss = 'mae'\n",
    ")\n",
    "\n",
    "history = model.fit(\n",
    "    X_train, y_train,\n",
    "    validation_data=(X_valid, y_valid),\n",
    "    batch_size = 512,\n",
    "    epochs = 50,\n",
    "    verbose = 0\n",
    ")\n",
    "\n",
    "history_df = pd.DataFrame(history.history)\n",
    "history_df.loc[:, ['loss', 'val_loss']].plot()"
   ]
  },
  {
   "cell_type": "code",
   "execution_count": 226,
   "metadata": {},
   "outputs": [],
   "source": [
    "concrete = pd.read_csv('data/concrete.csv')"
   ]
  },
  {
   "cell_type": "code",
   "execution_count": 228,
   "metadata": {},
   "outputs": [
    {
     "data": {
      "text/html": [
       "<div>\n",
       "<style scoped>\n",
       "    .dataframe tbody tr th:only-of-type {\n",
       "        vertical-align: middle;\n",
       "    }\n",
       "\n",
       "    .dataframe tbody tr th {\n",
       "        vertical-align: top;\n",
       "    }\n",
       "\n",
       "    .dataframe thead th {\n",
       "        text-align: right;\n",
       "    }\n",
       "</style>\n",
       "<table border=\"1\" class=\"dataframe\">\n",
       "  <thead>\n",
       "    <tr style=\"text-align: right;\">\n",
       "      <th></th>\n",
       "      <th>Cement</th>\n",
       "      <th>BlastFurnaceSlag</th>\n",
       "      <th>FlyAsh</th>\n",
       "      <th>Water</th>\n",
       "      <th>Superplasticizer</th>\n",
       "      <th>CoarseAggregate</th>\n",
       "      <th>FineAggregate</th>\n",
       "      <th>Age</th>\n",
       "      <th>CompressiveStrength</th>\n",
       "    </tr>\n",
       "  </thead>\n",
       "  <tbody>\n",
       "    <tr>\n",
       "      <th>0</th>\n",
       "      <td>540.0</td>\n",
       "      <td>0.0</td>\n",
       "      <td>0.0</td>\n",
       "      <td>162.0</td>\n",
       "      <td>2.5</td>\n",
       "      <td>1040.0</td>\n",
       "      <td>676.0</td>\n",
       "      <td>28</td>\n",
       "      <td>79.99</td>\n",
       "    </tr>\n",
       "    <tr>\n",
       "      <th>1</th>\n",
       "      <td>540.0</td>\n",
       "      <td>0.0</td>\n",
       "      <td>0.0</td>\n",
       "      <td>162.0</td>\n",
       "      <td>2.5</td>\n",
       "      <td>1055.0</td>\n",
       "      <td>676.0</td>\n",
       "      <td>28</td>\n",
       "      <td>61.89</td>\n",
       "    </tr>\n",
       "    <tr>\n",
       "      <th>2</th>\n",
       "      <td>332.5</td>\n",
       "      <td>142.5</td>\n",
       "      <td>0.0</td>\n",
       "      <td>228.0</td>\n",
       "      <td>0.0</td>\n",
       "      <td>932.0</td>\n",
       "      <td>594.0</td>\n",
       "      <td>270</td>\n",
       "      <td>40.27</td>\n",
       "    </tr>\n",
       "    <tr>\n",
       "      <th>3</th>\n",
       "      <td>332.5</td>\n",
       "      <td>142.5</td>\n",
       "      <td>0.0</td>\n",
       "      <td>228.0</td>\n",
       "      <td>0.0</td>\n",
       "      <td>932.0</td>\n",
       "      <td>594.0</td>\n",
       "      <td>365</td>\n",
       "      <td>41.05</td>\n",
       "    </tr>\n",
       "    <tr>\n",
       "      <th>4</th>\n",
       "      <td>198.6</td>\n",
       "      <td>132.4</td>\n",
       "      <td>0.0</td>\n",
       "      <td>192.0</td>\n",
       "      <td>0.0</td>\n",
       "      <td>978.4</td>\n",
       "      <td>825.5</td>\n",
       "      <td>360</td>\n",
       "      <td>44.30</td>\n",
       "    </tr>\n",
       "  </tbody>\n",
       "</table>\n",
       "</div>"
      ],
      "text/plain": [
       "   Cement  BlastFurnaceSlag  FlyAsh  Water  Superplasticizer  CoarseAggregate  \\\n",
       "0   540.0               0.0     0.0  162.0               2.5           1040.0   \n",
       "1   540.0               0.0     0.0  162.0               2.5           1055.0   \n",
       "2   332.5             142.5     0.0  228.0               0.0            932.0   \n",
       "3   332.5             142.5     0.0  228.0               0.0            932.0   \n",
       "4   198.6             132.4     0.0  192.0               0.0            978.4   \n",
       "\n",
       "   FineAggregate  Age  CompressiveStrength  \n",
       "0          676.0   28                79.99  \n",
       "1          676.0   28                61.89  \n",
       "2          594.0  270                40.27  \n",
       "3          594.0  365                41.05  \n",
       "4          825.5  360                44.30  "
      ]
     },
     "execution_count": 228,
     "metadata": {},
     "output_type": "execute_result"
    }
   ],
   "source": [
    "concrete.head()"
   ]
  },
  {
   "cell_type": "code",
   "execution_count": 229,
   "metadata": {},
   "outputs": [],
   "source": [
    "X = concrete.copy()\n",
    "y = X.pop('CompressiveStrength')"
   ]
  },
  {
   "cell_type": "code",
   "execution_count": 230,
   "metadata": {},
   "outputs": [],
   "source": [
    "X_train, X_valid, y_train, y_valid = train_test_split(X,y, random_state=0, test_size=0.33)"
   ]
  },
  {
   "cell_type": "code",
   "execution_count": 231,
   "metadata": {},
   "outputs": [
    {
     "data": {
      "text/plain": [
       "(690, 8)"
      ]
     },
     "execution_count": 231,
     "metadata": {},
     "output_type": "execute_result"
    }
   ],
   "source": [
    "X_train.shape"
   ]
  },
  {
   "cell_type": "code",
   "execution_count": 232,
   "metadata": {},
   "outputs": [
    {
     "data": {
      "text/plain": [
       "<AxesSubplot:>"
      ]
     },
     "execution_count": 232,
     "metadata": {},
     "output_type": "execute_result"
    },
    {
     "data": {
      "image/png": "[encoded data removed]",
      "text/plain": [
       "<Figure size 432x288 with 1 Axes>"
      ]
     },
     "metadata": {
      "needs_background": "light"
     },
     "output_type": "display_data"
    }
   ],
   "source": [
    "model = keras.Sequential([\n",
    "    layers.Dense(512, activation='relu', input_shape=[8]),\n",
    "    layers.Dense(512, activation='relu'),    \n",
    "    layers.Dense(512, activation='relu'),\n",
    "    layers.Dense(1),\n",
    "])\n",
    "model.compile(\n",
    "    optimizer='sgd', \n",
    "    loss='mae',\n",
    "    metrics=['mae'],\n",
    ")\n",
    "history = model.fit(\n",
    "    X_train, y_train,\n",
    "    validation_data=(X_valid, y_valid),\n",
    "    batch_size=64,\n",
    "    epochs=100,\n",
    "    verbose=0,\n",
    ")\n",
    "\n",
    "history_df = pd.DataFrame(history.history)\n",
    "history_df.loc[0:, ['loss', 'val_loss']].plot()"
   ]
  },
  {
   "cell_type": "code",
   "execution_count": 236,
   "metadata": {},
   "outputs": [
    {
     "data": {
      "text/plain": [
       "<AxesSubplot:>"
      ]
     },
     "execution_count": 236,
     "metadata": {},
     "output_type": "execute_result"
    },
    {
     "data": {
      "image/png": "[encoded data removed]",
      "text/plain": [
       "<Figure size 432x288 with 1 Axes>"
      ]
     },
     "metadata": {
      "needs_background": "light"
     },
     "output_type": "display_data"
    }
   ],
   "source": [
    "model = keras.Sequential([\n",
    "    layers.BatchNormalization(input_shape=[8]),\n",
    "    layers.Dense(512, activation='relu'),\n",
    "    layers.BatchNormalization(),\n",
    "    layers.Dense(512, activation='relu'),  \n",
    "    layers.BatchNormalization(),   \n",
    "    layers.Dense(512, activation='relu'),\n",
    "    layers.BatchNormalization(),   \n",
    "    layers.Dense(1),\n",
    "])\n",
    "model.compile(\n",
    "    optimizer='sgd', \n",
    "    loss='mae',\n",
    "    metrics=['mae'],\n",
    ")\n",
    "history = model.fit(\n",
    "    X_train, y_train,\n",
    "    validation_data=(X_valid, y_valid),\n",
    "    batch_size=64,\n",
    "    epochs=100,\n",
    "    verbose=0,\n",
    ")\n",
    "\n",
    "history_df = pd.DataFrame(history.history)\n",
    "history_df.loc[0:, ['loss', 'val_loss']].plot()"
   ]
  },
  {
   "cell_type": "markdown",
   "metadata": {},
   "source": [
    "# Binary Classification`"
   ]
  },
  {
   "cell_type": "code",
   "execution_count": null,
   "metadata": {},
   "outputs": [],
   "source": []
  }
 ],
 "metadata": {
  "kernelspec": {
   "display_name": "Python 3",
   "language": "python",
   "name": "python3"
  },
  "language_info": {
   "codemirror_mode": {
    "name": "ipython",
    "version": 3
   },
   "file_extension": ".py",
   "mimetype": "text/x-python",
   "name": "python",
   "nbconvert_exporter": "python",
   "pygments_lexer": "ipython3",
   "version": "3.8.5"
  }
 },
 "nbformat": 4,
 "nbformat_minor": 4
}
